{
  "nbformat": 4,
  "nbformat_minor": 0,
  "metadata": {
    "colab": {
      "name": "NLP_Word2Vec.ipynb",
      "provenance": [],
      "collapsed_sections": []
    },
    "kernelspec": {
      "name": "python3",
      "display_name": "Python 3"
    },
    "language_info": {
      "name": "python"
    }
  },
  "cells": [
    {
      "cell_type": "markdown",
      "source": [
        "# **Import Libraries**"
      ],
      "metadata": {
        "id": "6Obp3y_pgBlI"
      }
    },
    {
      "cell_type": "code",
      "execution_count": 1,
      "metadata": {
        "id": "YDZW_c2lf2TW",
        "colab": {
          "base_uri": "https://localhost:8080/"
        },
        "outputId": "5c17e19f-376f-49ff-958d-193cb8a8fe06"
      },
      "outputs": [
        {
          "output_type": "stream",
          "name": "stdout",
          "text": [
            "Requirement already satisfied: wikipedia in /usr/local/lib/python3.7/dist-packages (1.4.0)\n",
            "Requirement already satisfied: requests<3.0.0,>=2.0.0 in /usr/local/lib/python3.7/dist-packages (from wikipedia) (2.23.0)\n",
            "Requirement already satisfied: beautifulsoup4 in /usr/local/lib/python3.7/dist-packages (from wikipedia) (4.6.3)\n",
            "Requirement already satisfied: idna<3,>=2.5 in /usr/local/lib/python3.7/dist-packages (from requests<3.0.0,>=2.0.0->wikipedia) (2.10)\n",
            "Requirement already satisfied: chardet<4,>=3.0.2 in /usr/local/lib/python3.7/dist-packages (from requests<3.0.0,>=2.0.0->wikipedia) (3.0.4)\n",
            "Requirement already satisfied: certifi>=2017.4.17 in /usr/local/lib/python3.7/dist-packages (from requests<3.0.0,>=2.0.0->wikipedia) (2021.10.8)\n",
            "Requirement already satisfied: urllib3!=1.25.0,!=1.25.1,<1.26,>=1.21.1 in /usr/local/lib/python3.7/dist-packages (from requests<3.0.0,>=2.0.0->wikipedia) (1.24.3)\n",
            "Requirement already satisfied: Wikipedia-API in /usr/local/lib/python3.7/dist-packages (0.5.4)\n",
            "Requirement already satisfied: requests in /usr/local/lib/python3.7/dist-packages (from Wikipedia-API) (2.23.0)\n",
            "Requirement already satisfied: urllib3!=1.25.0,!=1.25.1,<1.26,>=1.21.1 in /usr/local/lib/python3.7/dist-packages (from requests->Wikipedia-API) (1.24.3)\n",
            "Requirement already satisfied: idna<3,>=2.5 in /usr/local/lib/python3.7/dist-packages (from requests->Wikipedia-API) (2.10)\n",
            "Requirement already satisfied: chardet<4,>=3.0.2 in /usr/local/lib/python3.7/dist-packages (from requests->Wikipedia-API) (3.0.4)\n",
            "Requirement already satisfied: certifi>=2017.4.17 in /usr/local/lib/python3.7/dist-packages (from requests->Wikipedia-API) (2021.10.8)\n"
          ]
        }
      ],
      "source": [
        "!pip install wikipedia\n",
        "!pip install Wikipedia-API\n",
        "import wikipedia\n",
        "import wikipediaapi\n",
        "import numpy as np\n",
        "import pandas as pd\n",
        "\n",
        "import gensim\n",
        "from gensim.models import KeyedVectors"
      ]
    },
    {
      "cell_type": "markdown",
      "source": [
        "# **Load Data**"
      ],
      "metadata": {
        "id": "fZLP63gJ5Vl0"
      }
    },
    {
      "cell_type": "code",
      "source": [
        "wiki = wikipediaapi.Wikipedia(\n",
        "    language = 'en',\n",
        "    extract_format = wikipediaapi.ExtractFormat.WIKI)"
      ],
      "metadata": {
        "id": "G9brGTD25qDW"
      },
      "execution_count": 2,
      "outputs": []
    },
    {
      "cell_type": "code",
      "source": [
        "domains = ['Football', 'Linux', 'Health', 'Music', 'Artificial Intelligence']"
      ],
      "metadata": {
        "id": "MIVf1pb-6I9J"
      },
      "execution_count": 3,
      "outputs": []
    },
    {
      "cell_type": "code",
      "source": [
        "docs_per_domain = 4\n",
        "domains_dict = {}\n",
        "for domain in domains:\n",
        "    results = wikipedia.search(domain, results=docs_per_domain)\n",
        "    domains_dict[domain] = []\n",
        "    for result in results:\n",
        "        domains_dict[domain].append(wiki.page(result).summary)"
      ],
      "metadata": {
        "id": "fxhxo7-36JUu"
      },
      "execution_count": 4,
      "outputs": []
    },
    {
      "cell_type": "markdown",
      "source": [
        "# **Explore data**"
      ],
      "metadata": {
        "id": "X6GwH2o76L1R"
      }
    },
    {
      "cell_type": "code",
      "source": [
        "# Explore first doc from each domain\n",
        "for domain in domains:\n",
        "    print('{} Domain:'.format(domain))\n",
        "    print('**********************\\n')    \n",
        "    print(domains_dict[domain][0],'\\n')"
      ],
      "metadata": {
        "colab": {
          "base_uri": "https://localhost:8080/"
        },
        "id": "Gc7BcK6Y6KTh",
        "outputId": "00720cb8-e608-4ce6-defa-b5e880f57ecf"
      },
      "execution_count": 5,
      "outputs": [
        {
          "output_type": "stream",
          "name": "stdout",
          "text": [
            "Football Domain:\n",
            "**********************\n",
            "\n",
            "Football is a family of team sports that involve, to varying degrees, kicking a ball to score a goal.  Unqualified, the word football normally means the form of football that is the most popular where the word is used. Sports commonly called football include association football (known as soccer in North America and Oceania); gridiron football (specifically American football or Canadian football); Australian rules football; rugby union and rugby league; and Gaelic football. These various forms of football share to varying extent common origins and are known as football codes.\n",
            "There are a number of references to traditional, ancient, or prehistoric ball games played in many different parts of the world. Contemporary codes of football can be traced back to the codification of these games at English public schools during the 19th century. The expansion and cultural influence of the British Empire allowed these rules of football to spread to areas of British influence outside the directly controlled Empire.  By the end of the 19th century, distinct regional codes were already developing: Gaelic football, for example, deliberately incorporated the rules of local traditional football games in order to maintain their heritage.  In 1888, The Football League was founded in England, becoming the first of many professional football associations. During the 20th century, several of the various kinds of football grew to become some of the most popular team sports in the world. \n",
            "\n",
            "Linux Domain:\n",
            "**********************\n",
            "\n",
            "Linux ( (listen) LEE-nuuks or  LIN-uuks) is a family of open-source Unix-like operating systems based on the Linux kernel, an operating system kernel first released on September 17, 1991, by Linus Torvalds. Linux is typically packaged in a Linux distribution.\n",
            "Distributions include the Linux kernel and supporting system software and libraries, many of which are provided by the GNU Project. Many Linux distributions use the word \"Linux\" in their name, but the Free Software Foundation uses the name \"GNU/Linux\" to emphasize the importance of GNU software, causing some controversy.Popular Linux distributions include Debian, Fedora Linux, and Ubuntu, which in itself has many different distributions and modifications, Including Lubuntu and Xubuntu. Commercial distributions include Red Hat Enterprise Linux and SUSE Linux Enterprise. Desktop Linux distributions include a windowing system such as X11 or Wayland, and a desktop environment such as GNOME or KDE Plasma. Distributions intended for servers may omit graphics altogether, or include a solution stack such as LAMP. Because Linux is freely redistributable, anyone may create a distribution for any purpose.Linux was originally developed for personal computers based on the Intel x86 architecture, but has since been ported to more platforms than any other operating system. Because of the dominance of the Linux-based Android on smartphones, Linux also has the largest installed base of all general-purpose operating systems. Although Linux is used by only around 2.3 percent of desktop computers, the Chromebook, which runs the Linux kernel-based Chrome OS, dominates the US K–12 education market and represents nearly 20 percent of sub-$300 notebook sales in the US. Linux is the leading operating system on servers (over 96.4% of the top 1 million web servers' operating systems are Linux), leads other big iron systems such as mainframe computers, and is the only OS used on TOP500 supercomputers (since November 2017, having gradually eliminated all competitors).Linux also runs on embedded systems, i.e. devices whose operating system is typically built into the firmware and is highly tailored to the system. This includes routers, automation controls, smart home technology, televisions (Samsung and LG Smart TVs use Tizen and WebOS, respectively), automobiles (for example, Tesla, Audi, Mercedes-Benz, Hyundai, and Toyota all rely on Linux), digital video recorders, video game consoles, and smartwatches. The Falcon 9's and the Dragon 2's avionics use a customized version of Linux.\n",
            "Linux is one of the most prominent examples of free and open-source software collaboration. The source code may be used, modified and distributed commercially or non-commercially by anyone under the terms of its respective licenses, such as the GNU General Public License. \n",
            "\n",
            "Health Domain:\n",
            "**********************\n",
            "\n",
            "Health, according to the World Health Organization, is \"a state of complete physical, mental and social well-being and not merely the absence of disease and infirmity\". A variety of definitions have been used for different purposes over time. Health can be promoted by encouraging healthful activities, such as regular physical exercise and adequate sleep, and by reducing or avoiding unhealthful activities or situations, such as smoking or excessive stress. Some factors affecting health are due to individual choices, such as whether to engage in a high-risk behavior, while others are due to structural causes, such as whether the society is arranged in a way that makes it easier or harder for people to get necessary healthcare services. Still other factors are beyond both individual and group choices, such as genetic disorders. \n",
            "\n",
            "Music Domain:\n",
            "**********************\n",
            "\n",
            "Music is the art of arranging sounds in time through the elements of melody, harmony, rhythm, and timbre. It is one of the universal cultural aspects of all human societies. General definitions of music include common elements such as pitch (which governs melody and harmony), rhythm (and its associated concepts tempo, meter, and articulation), dynamics (loudness and softness), and the sonic qualities of timbre and texture (which are sometimes termed the \"color\" of a musical sound). Different styles or types of music may emphasize, de-emphasize or omit some of these elements. Music is performed with a vast range of instruments and vocal techniques ranging from singing to rapping; there are solely instrumental pieces, solely vocal pieces (such as songs without instrumental accompaniment) and pieces that combine singing and instruments. The word derives from Greek μουσική, mousiké, '(art) of the Muses'.In its most general form, the activities describing music as an art form or cultural activity include the creation of works of music (songs, tunes, symphonies, and so on), the criticism of music, the study of the history of music, and the aesthetic examination of music. Ancient Greek and Indian philosophers defined music in two parts: melodies, as tones ordered horizontally, and harmonies as tones ordered vertically. Common sayings such as \"the harmony of the spheres\" and \"it is music to my ears\" point to the notion that music is often ordered and pleasant to listen to. However, 20th-century composer John Cage thought that any sound can be music, saying, for example, \"There is no noise, only sound.\"The creation, performance, significance, and even the definition of music vary according to culture and social context. Indeed, throughout history, some new forms or styles of music have been criticized as \"not being music\", including Beethoven's Grosse Fuge string quartet in 1825, early jazz in the beginning of the 1900s and hardcore punk in the 1980s. There are many types of music, including popular music, traditional music, art music, music written for religious ceremonies, and work songs such as chanteys. Music ranges from strictly organized compositions—such as Classical music symphonies from the 1700s and 1800s—through to spontaneously played improvisational music such as jazz, and avant-garde styles of chance-based contemporary music from the 20th and 21st centuries.\n",
            "Music can be divided into genres (e.g., country music) and genres can be further divided into subgenres (e.g., alternative country and country pop are two of the many country subgenres), although the dividing lines and relationships between music genres are often subtle, sometimes open to personal interpretation, and occasionally controversial. For example, it can be hard to draw the line between some early 1980s hard rock and heavy metal. Within the arts, music may be classified as a performing art, a fine art, or as an auditory art. Music may be played or sung and heard live at a rock concert or orchestra performance, heard live as part of a dramatic work (a music theater show or opera), or it may be recorded and listened to on a radio, MP3 player, CD player, smartphone or as film score or TV show.\n",
            "In many cultures, music is an important part of people's way of life, as it plays a key role in  religious rituals, rite of passage ceremonies (e.g., graduation and marriage), social activities (e.g., dancing) and cultural activities ranging from amateur karaoke singing to playing in an amateur funk band or singing in a community choir. People may make music as a hobby, like a teen playing cello in a youth orchestra, or work as a professional musician or singer. The music industry includes the individuals who create new songs and musical pieces (such as songwriters and composers), individuals who perform music (which include orchestra, jazz band and rock band musicians, singers and conductors), individuals who record music (music producers and sound engineers), individuals who organize concert tours, and individuals who sell recordings, sheet music, and scores to customers. Even once a song or piece has been performed, music critics, music journalists, and music scholars may assess and evaluate the piece and its performance. \n",
            "\n",
            "Artificial Intelligence Domain:\n",
            "**********************\n",
            "\n",
            "Artificial intelligence (AI) is intelligence demonstrated by machines, as opposed to the natural intelligence displayed by animals including humans. Leading AI textbooks define the field as the study of \"intelligent agents\": any system that perceives its environment and takes actions that maximize its chance of achieving its goals.Some popular accounts use the term \"artificial intelligence\" to describe machines that mimic \"cognitive\" functions that humans associate with the human mind, such as \"learning\" and \"problem-solving\", however, this definition is rejected by major AI researchers.AI applications include advanced web search engines (e.g., Google), recommendation systems (used by YouTube, Amazon and Netflix), understanding human speech (such as Siri and Alexa), self-driving cars (e.g., Tesla), automated decision-making and competing at the highest level in strategic game systems (such as chess and Go).\n",
            "As machines become increasingly capable, tasks considered to require \"intelligence\" are often removed from the definition of AI, a phenomenon known as the AI effect.  For instance, optical character recognition is frequently excluded from things considered to be AI, having become a routine technology.Artificial intelligence was founded as an academic discipline in 1956, and in the years since has experienced several waves of optimism, followed by disappointment and the loss of funding (known as an \"AI winter\"), followed by new approaches, success and renewed funding. AI research has tried and discarded many different approaches since its founding, including simulating the brain, modeling human problem solving, formal logic, large databases of knowledge and imitating animal behavior. In the first decades of the 21st century, highly mathematical-statistical machine learning has dominated the field, and this technique has proved highly successful, helping to solve many challenging problems throughout industry and academia.The various sub-fields of AI research are centered around particular goals and the use of particular tools. The traditional goals of AI research include reasoning, knowledge representation, planning, learning, natural language processing, perception, and the ability to move and manipulate objects. General intelligence (the ability to solve an arbitrary problem) is among the field's long-term goals. To solve these problems, AI researchers have adapted and integrated a wide range of problem-solving techniques—including search and mathematical optimization, formal logic, artificial neural networks, and methods based on statistics, probability and economics. AI also draws upon computer science, psychology, linguistics, philosophy, and many other fields.\n",
            "The field was founded on the assumption that human intelligence \"can be so precisely described that a machine can be made to simulate it\".\n",
            "This raises philosophical arguments about the mind and the ethics of creating artificial beings endowed with human-like intelligence. These issues have been explored by myth, fiction, and philosophy since antiquity.Science fiction and futurology have also suggested that, with its enormous potential and power, AI may become an existential risk to humanity. \n",
            "\n"
          ]
        }
      ]
    },
    {
      "cell_type": "code",
      "source": [
        "df = pd.DataFrame.from_dict(domains_dict, orient='index')\n",
        "\n",
        "df = df.rename(columns={0: 'DOC1', 1: 'DOC2', 2: 'DOC3', 3: 'DOC4'})\n",
        "\n",
        "df"
      ],
      "metadata": {
        "colab": {
          "base_uri": "https://localhost:8080/",
          "height": 337
        },
        "id": "uTKHXkccYgGO",
        "outputId": "fb8b4a9e-bb90-450d-f635-ba2d915eedd4"
      },
      "execution_count": 6,
      "outputs": [
        {
          "output_type": "execute_result",
          "data": {
            "text/plain": [
              "                                                                      DOC1  \\\n",
              "Football                 Football is a family of team sports that invol...   \n",
              "Linux                    Linux ( (listen) LEE-nuuks or  LIN-uuks) is a ...   \n",
              "Health                   Health, according to the World Health Organiza...   \n",
              "Music                    Music is the art of arranging sounds in time t...   \n",
              "Artificial Intelligence  Artificial intelligence (AI) is intelligence d...   \n",
              "\n",
              "                                                                      DOC2  \\\n",
              "Football                 A football player or footballer is a sportsper...   \n",
              "Linux                    The Linux kernel is a mostly free and open-sou...   \n",
              "Health                   HealtH (also known as Health and H.E.A.L.T.H.)...   \n",
              "Music                    Music is an art form consisting of sound and s...   \n",
              "Artificial Intelligence  A.I. Artificial Intelligence (also known as A....   \n",
              "\n",
              "                                                                      DOC3  \\\n",
              "Football                 College football is gridiron football consisti...   \n",
              "Linux                    A Linux distribution (often abbreviated as dis...   \n",
              "Health                   Mental health encompasses emotional, psycholog...   \n",
              "Music                    Classical music generally refers to the formal...   \n",
              "Artificial Intelligence  Artificial general intelligence (AGI) is the h...   \n",
              "\n",
              "                                                                      DOC4  \n",
              "Football                 Association football, more commonly known as s...  \n",
              "Linux                    Linux Mint is a community-driven Linux distrib...  \n",
              "Health                   Health care or healthcare is the maintenance o...  \n",
              "Music                    A music video is a video of variable length, t...  \n",
              "Artificial Intelligence  The history of artificial intelligence (AI) be...  "
            ],
            "text/html": [
              "\n",
              "  <div id=\"df-ebc8390c-e2be-4f0a-a01d-458d853d3d51\">\n",
              "    <div class=\"colab-df-container\">\n",
              "      <div>\n",
              "<style scoped>\n",
              "    .dataframe tbody tr th:only-of-type {\n",
              "        vertical-align: middle;\n",
              "    }\n",
              "\n",
              "    .dataframe tbody tr th {\n",
              "        vertical-align: top;\n",
              "    }\n",
              "\n",
              "    .dataframe thead th {\n",
              "        text-align: right;\n",
              "    }\n",
              "</style>\n",
              "<table border=\"1\" class=\"dataframe\">\n",
              "  <thead>\n",
              "    <tr style=\"text-align: right;\">\n",
              "      <th></th>\n",
              "      <th>DOC1</th>\n",
              "      <th>DOC2</th>\n",
              "      <th>DOC3</th>\n",
              "      <th>DOC4</th>\n",
              "    </tr>\n",
              "  </thead>\n",
              "  <tbody>\n",
              "    <tr>\n",
              "      <th>Football</th>\n",
              "      <td>Football is a family of team sports that invol...</td>\n",
              "      <td>A football player or footballer is a sportsper...</td>\n",
              "      <td>College football is gridiron football consisti...</td>\n",
              "      <td>Association football, more commonly known as s...</td>\n",
              "    </tr>\n",
              "    <tr>\n",
              "      <th>Linux</th>\n",
              "      <td>Linux ( (listen) LEE-nuuks or  LIN-uuks) is a ...</td>\n",
              "      <td>The Linux kernel is a mostly free and open-sou...</td>\n",
              "      <td>A Linux distribution (often abbreviated as dis...</td>\n",
              "      <td>Linux Mint is a community-driven Linux distrib...</td>\n",
              "    </tr>\n",
              "    <tr>\n",
              "      <th>Health</th>\n",
              "      <td>Health, according to the World Health Organiza...</td>\n",
              "      <td>HealtH (also known as Health and H.E.A.L.T.H.)...</td>\n",
              "      <td>Mental health encompasses emotional, psycholog...</td>\n",
              "      <td>Health care or healthcare is the maintenance o...</td>\n",
              "    </tr>\n",
              "    <tr>\n",
              "      <th>Music</th>\n",
              "      <td>Music is the art of arranging sounds in time t...</td>\n",
              "      <td>Music is an art form consisting of sound and s...</td>\n",
              "      <td>Classical music generally refers to the formal...</td>\n",
              "      <td>A music video is a video of variable length, t...</td>\n",
              "    </tr>\n",
              "    <tr>\n",
              "      <th>Artificial Intelligence</th>\n",
              "      <td>Artificial intelligence (AI) is intelligence d...</td>\n",
              "      <td>A.I. Artificial Intelligence (also known as A....</td>\n",
              "      <td>Artificial general intelligence (AGI) is the h...</td>\n",
              "      <td>The history of artificial intelligence (AI) be...</td>\n",
              "    </tr>\n",
              "  </tbody>\n",
              "</table>\n",
              "</div>\n",
              "      <button class=\"colab-df-convert\" onclick=\"convertToInteractive('df-ebc8390c-e2be-4f0a-a01d-458d853d3d51')\"\n",
              "              title=\"Convert this dataframe to an interactive table.\"\n",
              "              style=\"display:none;\">\n",
              "        \n",
              "  <svg xmlns=\"http://www.w3.org/2000/svg\" height=\"24px\"viewBox=\"0 0 24 24\"\n",
              "       width=\"24px\">\n",
              "    <path d=\"M0 0h24v24H0V0z\" fill=\"none\"/>\n",
              "    <path d=\"M18.56 5.44l.94 2.06.94-2.06 2.06-.94-2.06-.94-.94-2.06-.94 2.06-2.06.94zm-11 1L8.5 8.5l.94-2.06 2.06-.94-2.06-.94L8.5 2.5l-.94 2.06-2.06.94zm10 10l.94 2.06.94-2.06 2.06-.94-2.06-.94-.94-2.06-.94 2.06-2.06.94z\"/><path d=\"M17.41 7.96l-1.37-1.37c-.4-.4-.92-.59-1.43-.59-.52 0-1.04.2-1.43.59L10.3 9.45l-7.72 7.72c-.78.78-.78 2.05 0 2.83L4 21.41c.39.39.9.59 1.41.59.51 0 1.02-.2 1.41-.59l7.78-7.78 2.81-2.81c.8-.78.8-2.07 0-2.86zM5.41 20L4 18.59l7.72-7.72 1.47 1.35L5.41 20z\"/>\n",
              "  </svg>\n",
              "      </button>\n",
              "      \n",
              "  <style>\n",
              "    .colab-df-container {\n",
              "      display:flex;\n",
              "      flex-wrap:wrap;\n",
              "      gap: 12px;\n",
              "    }\n",
              "\n",
              "    .colab-df-convert {\n",
              "      background-color: #E8F0FE;\n",
              "      border: none;\n",
              "      border-radius: 50%;\n",
              "      cursor: pointer;\n",
              "      display: none;\n",
              "      fill: #1967D2;\n",
              "      height: 32px;\n",
              "      padding: 0 0 0 0;\n",
              "      width: 32px;\n",
              "    }\n",
              "\n",
              "    .colab-df-convert:hover {\n",
              "      background-color: #E2EBFA;\n",
              "      box-shadow: 0px 1px 2px rgba(60, 64, 67, 0.3), 0px 1px 3px 1px rgba(60, 64, 67, 0.15);\n",
              "      fill: #174EA6;\n",
              "    }\n",
              "\n",
              "    [theme=dark] .colab-df-convert {\n",
              "      background-color: #3B4455;\n",
              "      fill: #D2E3FC;\n",
              "    }\n",
              "\n",
              "    [theme=dark] .colab-df-convert:hover {\n",
              "      background-color: #434B5C;\n",
              "      box-shadow: 0px 1px 3px 1px rgba(0, 0, 0, 0.15);\n",
              "      filter: drop-shadow(0px 1px 2px rgba(0, 0, 0, 0.3));\n",
              "      fill: #FFFFFF;\n",
              "    }\n",
              "  </style>\n",
              "\n",
              "      <script>\n",
              "        const buttonEl =\n",
              "          document.querySelector('#df-ebc8390c-e2be-4f0a-a01d-458d853d3d51 button.colab-df-convert');\n",
              "        buttonEl.style.display =\n",
              "          google.colab.kernel.accessAllowed ? 'block' : 'none';\n",
              "\n",
              "        async function convertToInteractive(key) {\n",
              "          const element = document.querySelector('#df-ebc8390c-e2be-4f0a-a01d-458d853d3d51');\n",
              "          const dataTable =\n",
              "            await google.colab.kernel.invokeFunction('convertToInteractive',\n",
              "                                                     [key], {});\n",
              "          if (!dataTable) return;\n",
              "\n",
              "          const docLinkHtml = 'Like what you see? Visit the ' +\n",
              "            '<a target=\"_blank\" href=https://colab.research.google.com/notebooks/data_table.ipynb>data table notebook</a>'\n",
              "            + ' to learn more about interactive tables.';\n",
              "          element.innerHTML = '';\n",
              "          dataTable['output_type'] = 'display_data';\n",
              "          await google.colab.output.renderOutput(dataTable, element);\n",
              "          const docLink = document.createElement('div');\n",
              "          docLink.innerHTML = docLinkHtml;\n",
              "          element.appendChild(docLink);\n",
              "        }\n",
              "      </script>\n",
              "    </div>\n",
              "  </div>\n",
              "  "
            ]
          },
          "metadata": {},
          "execution_count": 6
        }
      ]
    },
    {
      "cell_type": "code",
      "source": [
        "raw_data = df.values\n",
        "raw_data = raw_data.reshape((20,))"
      ],
      "metadata": {
        "id": "ALbp1atYO1l1"
      },
      "execution_count": 7,
      "outputs": []
    },
    {
      "cell_type": "code",
      "source": [
        "raw_data.shape"
      ],
      "metadata": {
        "colab": {
          "base_uri": "https://localhost:8080/"
        },
        "id": "6v49tXhePMK1",
        "outputId": "27ac28cd-7929-4c36-942d-090b7a5117b6"
      },
      "execution_count": 8,
      "outputs": [
        {
          "output_type": "execute_result",
          "data": {
            "text/plain": [
              "(20,)"
            ]
          },
          "metadata": {},
          "execution_count": 8
        }
      ]
    },
    {
      "cell_type": "code",
      "source": [
        "print(raw_data)"
      ],
      "metadata": {
        "colab": {
          "base_uri": "https://localhost:8080/"
        },
        "id": "h8QXUYLtPv6V",
        "outputId": "94af31b8-eb27-4a99-af52-e2f82ddbb2ff"
      },
      "execution_count": 9,
      "outputs": [
        {
          "output_type": "stream",
          "name": "stdout",
          "text": [
            "['Football is a family of team sports that involve, to varying degrees, kicking a ball to score a goal.  Unqualified, the word football normally means the form of football that is the most popular where the word is used. Sports commonly called football include association football (known as soccer in North America and Oceania); gridiron football (specifically American football or Canadian football); Australian rules football; rugby union and rugby league; and Gaelic football. These various forms of football share to varying extent common origins and are known as football codes.\\nThere are a number of references to traditional, ancient, or prehistoric ball games played in many different parts of the world. Contemporary codes of football can be traced back to the codification of these games at English public schools during the 19th century. The expansion and cultural influence of the British Empire allowed these rules of football to spread to areas of British influence outside the directly controlled Empire.  By the end of the 19th century, distinct regional codes were already developing: Gaelic football, for example, deliberately incorporated the rules of local traditional football games in order to maintain their heritage.  In 1888, The Football League was founded in England, becoming the first of many professional football associations. During the 20th century, several of the various kinds of football grew to become some of the most popular team sports in the world.'\n",
            " 'A football player or footballer is a sportsperson who plays one of the different types of football. The main types of football are association football, American football, Canadian football, Australian rules football, Gaelic football, rugby league and rugby union.\\nIt has been estimated that there are 250 million association football players in the world, and many play the other forms of football.'\n",
            " \"College football is gridiron football consisting of American football played by teams of student athletes fielded by American universities, colleges, and military academies, or Canadian football played by teams of student athletes fielded by Canadian universities. It was through college football play that American football rules first gained popularity in the United States.\\nUnlike most other sports in North America, no official minor league farm organizations exist in American or Canadian football. Therefore, college football is generally considered to be the second tier of American football in the United States and Canadian football in Canada; one step ahead of high school competition, and one step below professional competition. However, in some areas of the country, the South and the Midwest, college football is far more popular than professional football, and for much of the early 20th century, college football was seen as more prestigious than professional football.\\nA player's performance in college football directly impacts his chances of playing professional football. The best collegiate players will typically declare for the professional draft after three to four years of collegiate competition, with the NFL holding its annual NFL draft every spring in which 256 players are selected annually. Those not selected can still attempt to land an NFL roster spot as an undrafted free agent.\"\n",
            " \"Association football, more commonly known as simply football or soccer, is a team sport played with a spherical ball between two teams of 11 players. It is played by approximately 250 million players in over 200 countries and dependencies, making it the world's most popular sport. The game is played on a rectangular field called a pitch with a goal at each end. The objective of the game is to score more goals than the opposition by moving the ball beyond the goal line into the opposing goal, usually within a time frame of 90 or more minutes.\\nFootball is played in accordance with a set of rules known as the Laws of the Game. The ball is 68–70 cm (27–28 in) in circumference and known as the football. The two teams compete to get the ball into the other team's goal (between the posts and under the bar), thereby scoring a goal. Players are not allowed to touch the ball with hands or arms while it is in play, except for the goalkeepers within the penalty area. Players may use any other part of their body to strike or pass the ball and mainly use their feet. The team that has scored more goals at the end of the game is the winner; if both teams have scored an equal number of goals, either a draw is declared or the game goes into extra time or a penalty shootout, depending on the format of the competition. Each team is led by a captain who has only one official responsibility as mandated by the Laws of the Game: to represent their team in the coin toss before kick-off or penalty kicks.Football is governed internationally by the International Federation of Association Football (FIFA; French: Fédération Internationale de Football Association), which organises World Cups for men and women every four years. The men's FIFA World Cup has taken place every four years since 1930, with the exception of 1942 and 1946 tournaments, which were cancelled due to World War II. Approximately 190–200 national teams compete in qualifying tournaments within the scope of continental confederations for a place in the finals. The finals tournament is held every four years and involves 32 national teams competing over four weeks. It is the most prestigious men's football tournament in the world, and the most widely viewed and followed sporting event in the world, exceeding the Olympic Games. Similarly, the FIFA Women's World Cup has been played every four years since 1991, though football has been played by women since it has existed. A record-breaking 1.12 billion viewers watched the 2019 FIFA Women's World Cup in France.The most prestigious competitions in European club football are the UEFA Champions League and UEFA Women's Champions League, which attract an extensive television audience throughout the world. The final of the men's tournament has been, in recent years, the most-watched annual sporting event in the world. The top five European men's leagues are the Premier League (England), La Liga (Spain), Bundesliga (Germany), Serie A (Italy), and Ligue 1 (France). Attracting most of the world's best players, each of the leagues has a total wage cost in excess of £600 million/€763 million/US$1.185 billion.\"\n",
            " 'Linux ( (listen) LEE-nuuks or  LIN-uuks) is a family of open-source Unix-like operating systems based on the Linux kernel, an operating system kernel first released on September 17, 1991, by Linus Torvalds. Linux is typically packaged in a Linux distribution.\\nDistributions include the Linux kernel and supporting system software and libraries, many of which are provided by the GNU Project. Many Linux distributions use the word \"Linux\" in their name, but the Free Software Foundation uses the name \"GNU/Linux\" to emphasize the importance of GNU software, causing some controversy.Popular Linux distributions include Debian, Fedora Linux, and Ubuntu, which in itself has many different distributions and modifications, Including Lubuntu and Xubuntu. Commercial distributions include Red Hat Enterprise Linux and SUSE Linux Enterprise. Desktop Linux distributions include a windowing system such as X11 or Wayland, and a desktop environment such as GNOME or KDE Plasma. Distributions intended for servers may omit graphics altogether, or include a solution stack such as LAMP. Because Linux is freely redistributable, anyone may create a distribution for any purpose.Linux was originally developed for personal computers based on the Intel x86 architecture, but has since been ported to more platforms than any other operating system. Because of the dominance of the Linux-based Android on smartphones, Linux also has the largest installed base of all general-purpose operating systems. Although Linux is used by only around 2.3 percent of desktop computers, the Chromebook, which runs the Linux kernel-based Chrome OS, dominates the US K–12 education market and represents nearly 20 percent of sub-$300 notebook sales in the US. Linux is the leading operating system on servers (over 96.4% of the top 1 million web servers\\' operating systems are Linux), leads other big iron systems such as mainframe computers, and is the only OS used on TOP500 supercomputers (since November 2017, having gradually eliminated all competitors).Linux also runs on embedded systems, i.e. devices whose operating system is typically built into the firmware and is highly tailored to the system. This includes routers, automation controls, smart home technology, televisions (Samsung and LG Smart TVs use Tizen and WebOS, respectively), automobiles (for example, Tesla, Audi, Mercedes-Benz, Hyundai, and Toyota all rely on Linux), digital video recorders, video game consoles, and smartwatches. The Falcon 9\\'s and the Dragon 2\\'s avionics use a customized version of Linux.\\nLinux is one of the most prominent examples of free and open-source software collaboration. The source code may be used, modified and distributed commercially or non-commercially by anyone under the terms of its respective licenses, such as the GNU General Public License.'\n",
            " 'The Linux kernel is a mostly free and open-source, monolithic, modular, multitasking, Unix-like operating system kernel. It was originally authored in 1991 by Linus Torvalds for his i386-based PC, and it was soon adopted as the kernel for the GNU operating system, which was written to be a free (libre) replacement for UNIX.\\nLinux as a whole is released under the GNU General Public License version 2 only, but it contains files under other compatible licenses. However, Linux began including proprietary binary blobs in its source tree and main distribution in 1996. This led to other projects starting work to remove the proprietary blobs in order to produce a 100% libre kernel, which eventually led to the Linux-libre project being founded.Since the late 1990s, it has been included as part of a large number of operating system distributions, many of which are commonly also called Linux. However, there is a controversy surrounding the naming of such systems; some people, including Richard Stallman, argue calling such systems \"Linux\" is erroneous because the operating system is actually mostly GNU, with the Linux kernel being one component added later on in 1992, 9 years after the initiation of the GNU project in 1983, hence the name \"GNU+Linux\" or \"GNU/Linux\" should be used instead.\\nLinux is deployed on a wide variety of computing systems, such as embedded devices, mobile devices (including its use in the Android operating system), personal computers, servers, mainframes, and supercomputers. It can be tailored for specific architectures and for several usage scenarios using a family of simple commands (that is, without the need of manually editing its source code before compilation); privileged users can also fine-tune kernel parameters at runtime. Most of the Linux kernel code is written using the GNU extensions of GCC to the standard C programming language and with the use of architecture specific instructions (ISA). This produces a highly optimized executable (vmlinux) with respect to utilization of memory space and task execution times.Day-to-day development discussions take place on the Linux kernel mailing list (LKML). Changes are tracked using the version control system git, which was originally authored by Torvalds as a free software replacement for BitKeeper.'\n",
            " \"A Linux distribution (often abbreviated as distro) is an operating system made from a software collection that includes the Linux kernel and, often, a package management system. Linux users usually obtain their operating system by downloading one of the Linux distributions, which are available for a wide variety of systems ranging from embedded devices (for example, OpenWrt) and personal computers (for example, Linux Mint) to powerful supercomputers (for example, Rocks Cluster Distribution).\\nA typical Linux distribution comprises a Linux kernel, GNU tools and libraries, additional software, documentation, a window system (the most common being the X Window System, or, more recently, Wayland), a window manager, and a desktop environment.\\nMost of the included software is free and open-source software made available both as compiled binaries and in source code form, allowing modifications to the original software. Usually, Linux distributions optionally include some proprietary software that may not be available in source code form, such as binary blobs required for some device drivers.A Linux distribution may also be described as a particular assortment of application and utility software (various GNU tools and libraries, for example), packaged together with the Linux kernel in such a way that its capabilities meet the needs of many users. The software is usually adapted to the distribution and then packaged into software packages by the distribution's maintainers. The software packages are available online in repositories, which are storage locations usually distributed around the world. Beside glue components, such as the distribution installers (for example, Debian-Installer and Anaconda) or the package management systems, there are only very few packages that are originally written from the ground up by the maintainers of a Linux distribution.\\nAlmost one thousand Linux distributions exist. Because of the huge availability of software, distributions have taken a wide variety of forms, including those suitable for use on desktops, servers, laptops, netbooks, mobile phones and tablets, as well as minimal environments typically for use in embedded systems. There are commercially backed distributions, such as Fedora Linux (Red Hat), openSUSE (SUSE) and Ubuntu (Canonical Ltd.), and entirely community-driven distributions, such as Debian, Slackware, Gentoo and Arch Linux. Most distributions come ready to use and pre-compiled for a specific instruction set, while some distributions (such as Gentoo) are distributed mostly in source code form and compiled locally during installation.\"\n",
            " 'Linux Mint is a community-driven Linux distribution based on Ubuntu (which is in turn based on Debian), bundled with a variety of free and open-source applications. It can provide full out-of-the-box multimedia support for those who choose to include proprietary software such as multimedia codecs.The Linux Mint project was created by Clément Lefèbvre and is actively maintained by the Linux Mint Team and community.'\n",
            " 'Health, according to the World Health Organization, is \"a state of complete physical, mental and social well-being and not merely the absence of disease and infirmity\". A variety of definitions have been used for different purposes over time. Health can be promoted by encouraging healthful activities, such as regular physical exercise and adequate sleep, and by reducing or avoiding unhealthful activities or situations, such as smoking or excessive stress. Some factors affecting health are due to individual choices, such as whether to engage in a high-risk behavior, while others are due to structural causes, such as whether the society is arranged in a way that makes it easier or harder for people to get necessary healthcare services. Still other factors are beyond both individual and group choices, such as genetic disorders.'\n",
            " 'HealtH (also known as Health and H.E.A.L.T.H.) is a 1980 American ensemble comedy film, the fifteenth feature project from director Robert Altman.  It stars Carol Burnett, Glenda Jackson, James Garner, Lauren Bacall, and Paul Dooley, and was written by Altman, Dooley and Frank Barhydt.  The film\\'s title is an acronym for \"Happiness, Energy, and Longevity through Health\".\\nA parody and satire of the U.S. political scene of the time, HealtH is set at a health food convention at a Florida luxury hotel, where a powerful political organization is deciding on a new president.  The election is rife with backroom deals and scandal; a businessman, Colonel Cody, is out to rig the votes and the outcome.  Dick Cavett and Dinah Shore, two television talk show personalities of the time, are mentioned prominently in the film.\\nHealtH was made by Robert Altman\\'s company, Lion\\'s Gate Films (no relation to Lionsgate Films), in early 1979.  It was the director\\'s last film for the 20th Century-Fox studio, which shelved its official release for over two years. Despite this, it received festival showings and a brief Los Angeles run during 1980. The film was broadcast on various U.S. television stations over the years, including The Movie Channel and Fox Movie Channel, but has never been issued on home video.'\n",
            " 'Mental health encompasses emotional, psychological, and social well-being. It influences cognition, perception, and behavior. It also determines how an individual handles stress, interpersonal relationships, and decision-making. Mental health includes subjective well-being, perceived self-efficacy, autonomy, competence, intergenerational dependence, and self-actualization of one\\'s intellectual and emotional potential, among others. From the perspectives of positive psychology or holism, mental health may include an individual\\'s ability to enjoy life and to create a balance between life activities and efforts to achieve psychological resilience. Cultural differences, subjective assessments, and competing professional theories all affect how one defines \"mental health\". Some early signs related to mental health problems are sleep irritation, lack of energy and thinking of harming yourself or others.'\n",
            " 'Health care or healthcare is the maintenance or improvement of health via the prevention, diagnosis, treatment, amelioration, or cure of disease, illness, injury, and other physical and mental impairments in people. Health care is delivered by health professionals and allied health fields. Medicine, dentistry, pharmacy, midwifery, nursing, optometry, audiology, psychology, occupational therapy, physical therapy, athletic training, and other health professions are all part of health care. It includes work done in providing primary care, secondary care, and tertiary care, as well as in public health.\\nAccess to health care may vary across countries, communities, and individuals, influenced by social and economic conditions as well as health policies. Providing health care services means \"the timely use of personal health services to achieve the best possible health outcomes\". Factors to consider in terms of health care access include financial limitations (such as insurance coverage), geographic barriers (such as additional transportation costs, the possibility to take paid time off of work to use such services), and personal limitations (lack of ability to communicate with health care providers, poor health literacy, low income). Limitations to health care services affects negatively the use of medical services, the efficacy of treatments, and overall outcome (well-being, mortality rates).\\nHealth care systems are organizations established to meet the health needs of targeted populations. According to the World Health Organization (WHO), a well-functioning health care system requires a financing mechanism, a well-trained and adequately paid workforce, reliable information on which to base decisions and policies, and well-maintained health facilities to deliver quality medicines and technologies.\\nAn efficient health care system can contribute to a significant part of a country\\'s economy, development, and industrialization. Health care is conventionally regarded as an important determinant in promoting the general physical and mental health and well-being of people around the world. An example of this was the worldwide eradication of smallpox in 1980, declared by the WHO as the first disease in human history to be eliminated by deliberate health care interventions.'\n",
            " 'Music is the art of arranging sounds in time through the elements of melody, harmony, rhythm, and timbre. It is one of the universal cultural aspects of all human societies. General definitions of music include common elements such as pitch (which governs melody and harmony), rhythm (and its associated concepts tempo, meter, and articulation), dynamics (loudness and softness), and the sonic qualities of timbre and texture (which are sometimes termed the \"color\" of a musical sound). Different styles or types of music may emphasize, de-emphasize or omit some of these elements. Music is performed with a vast range of instruments and vocal techniques ranging from singing to rapping; there are solely instrumental pieces, solely vocal pieces (such as songs without instrumental accompaniment) and pieces that combine singing and instruments. The word derives from Greek μουσική, mousiké, \\'(art) of the Muses\\'.In its most general form, the activities describing music as an art form or cultural activity include the creation of works of music (songs, tunes, symphonies, and so on), the criticism of music, the study of the history of music, and the aesthetic examination of music. Ancient Greek and Indian philosophers defined music in two parts: melodies, as tones ordered horizontally, and harmonies as tones ordered vertically. Common sayings such as \"the harmony of the spheres\" and \"it is music to my ears\" point to the notion that music is often ordered and pleasant to listen to. However, 20th-century composer John Cage thought that any sound can be music, saying, for example, \"There is no noise, only sound.\"The creation, performance, significance, and even the definition of music vary according to culture and social context. Indeed, throughout history, some new forms or styles of music have been criticized as \"not being music\", including Beethoven\\'s Grosse Fuge string quartet in 1825, early jazz in the beginning of the 1900s and hardcore punk in the 1980s. There are many types of music, including popular music, traditional music, art music, music written for religious ceremonies, and work songs such as chanteys. Music ranges from strictly organized compositions—such as Classical music symphonies from the 1700s and 1800s—through to spontaneously played improvisational music such as jazz, and avant-garde styles of chance-based contemporary music from the 20th and 21st centuries.\\nMusic can be divided into genres (e.g., country music) and genres can be further divided into subgenres (e.g., alternative country and country pop are two of the many country subgenres), although the dividing lines and relationships between music genres are often subtle, sometimes open to personal interpretation, and occasionally controversial. For example, it can be hard to draw the line between some early 1980s hard rock and heavy metal. Within the arts, music may be classified as a performing art, a fine art, or as an auditory art. Music may be played or sung and heard live at a rock concert or orchestra performance, heard live as part of a dramatic work (a music theater show or opera), or it may be recorded and listened to on a radio, MP3 player, CD player, smartphone or as film score or TV show.\\nIn many cultures, music is an important part of people\\'s way of life, as it plays a key role in  religious rituals, rite of passage ceremonies (e.g., graduation and marriage), social activities (e.g., dancing) and cultural activities ranging from amateur karaoke singing to playing in an amateur funk band or singing in a community choir. People may make music as a hobby, like a teen playing cello in a youth orchestra, or work as a professional musician or singer. The music industry includes the individuals who create new songs and musical pieces (such as songwriters and composers), individuals who perform music (which include orchestra, jazz band and rock band musicians, singers and conductors), individuals who record music (music producers and sound engineers), individuals who organize concert tours, and individuals who sell recordings, sheet music, and scores to customers. Even once a song or piece has been performed, music critics, music journalists, and music scholars may assess and evaluate the piece and its performance.'\n",
            " 'Music is an art form consisting of sound and silence, expressed through time.\\nMusic may also refer to:'\n",
            " 'Classical music generally refers to the formal musical tradition of the Western world, considered to be distinct from Western folk music or popular music traditions. It is sometimes distinguished as Western classical music, as the term \"classical music\" may also refer to non-Western traditions which exhibit similar formal qualities. In addition to formality, classical music is often characterized by complexity in its musical form and harmonic organization, particularly with the use of polyphony. Since at least the 9th-century it has been primarily a written tradition, spawning a sophisticated notational system, as well as accompanying literature in analytical, critical, historiographical, musicological and philosophical practices. A foundational component of Western Culture, classical music is frequently seen from the perspective of individual or groups of composers, whose compositions, personalities and beliefs have fundamentally shaped its history.\\nRooted in the patronage of churches and royal courts in Western Europe, early medieval music was chiefly religious, monophonic and vocal, with the music of ancient Greece and Rome influencing its thought and theory. The earliest extant music manuscripts date from the Carolingian Empire (800–888), around the time which Western plainchant gradually unified into what is termed Gregorian chant. Musical centers existed at the Abbey of Saint Gall, the Abbey of Saint Martial and Saint Emmeram\\'s Abbey, while the 11th-century saw the development of staff notation and increasing output from medieval music theorists. By the mid-12th century France became the major European musical center: the religious Notre-Dame school first fully explored organized rhythms and polyphony, while secular music flourished with the troubadour and trouvère traditions led by poet-musician nobles. This culminated in the court sponsored French ars nova and Italian Trecento, which evolved into ars subtilior, a stylistic movement of extreme rhythmic diversity. Beginning in the early 15th-century, Renaissance composers of the influential Franco-Flemish School built off the harmonic principles in the English contenance angloise, bringing sacred music to new standards, particularly the mass and motet. Northern Italy soon emerged as the central musical region, where the Roman School engaged in highly sophisticated methods of polyphony in genres such as the madrigal, which inspired the brief English Madrigal School.\\nThe Baroque period (1580–1750) saw the relative standardization of common-practice tonality, as well as the increasing importance of musical instruments, which grew into ensembles of considerable size. Italy remained dominant, being the birthplace of opera, the soloist centered concerto genre, the organized sonata form as well as the large scale vocal-centered genres of oratorio and cantata. The fugue technique championed by Johann Sebastian Bach exemplified the Baroque tendency for complexity, and as a reaction the simpler and song-like galant music and empfindsamkeit styles were developed. In the shorter but pivotal Classical period (1730–1820) composers such as Wolfgang Amadeus Mozart, Joseph Haydn, and Ludwig van Beethoven created widely admired representatives of absolute music, including symphonies, string quartets and concertos. The subsequent Romantic music (1800–1910) focused instead on programmatic music, for which the art song, symphonic poem and various piano genres were important vessels. During this time virtuosity was celebrated, immensity was encouraged, while philosophy and nationalism were embedded—all aspects that converged in the operas of Richard Wagner. By the 20th-century, stylistic unification gradually dissipated while the prominence of popular music greatly increased. Many composers actively avoided past techniques and genres in the lens of modernism, with some abandoning tonality in place of serialism, while others found new inspiration in folk melodies or impressionist sentiments. After World War II, for the first time audience members valued older music over contemporary works, a preference which has been catered to by the emergence and widespread availability of commercial recordings. Trends of the mid 20th-century to the present day include New Simplicity, New Complexity, Minimalism, Spectral music, and more recently Postmodern music and Postminimalism. Increasingly global, practitioners from the Americas, Africa and Asia have obtained crucial roles, while symphony orchestras and opera houses now appear across the world.'\n",
            " 'A music video is a video of variable length, that integrates a music song or music album with imagery that is produced for promotional or musical artistic purposes. Modern music videos are primarily made and used as a music marketing device intended to promote the sale of music recordings. There are also cases where music songs are used in tie-in music marketing campaigns that allow them to become more than just a song. Tie-ins and music merchandising can be used for toys or for food or other products.\\nAlthough the origins of music videos date back to musical short films that first appeared, they again came into prominence when Paramount Global\\'s MTV based its format around the medium. These kinds of videos were described by various terms including \"illustrated song\", \"filmed insert\", \"promotional (promo) film\", \"promotional clip\", \"promotional video\", \"song video\", \"song clip\", \"film clip\" or simply \"video\".\\nMusic videos use a wide range of styles and contemporary video-making techniques, including animation, live-action, documentary, and non-narrative approaches such as abstract film. Some music videos combine different styles with music, such as animation and live-action. Combining these styles and techniques has become more popular due to the variety for the audience. Many music videos interpret images and scenes from the song\\'s lyrics, while others take a more thematic approach. Other music videos may not have any concept, being only a filmed version of the song\\'s live concert performance.'\n",
            " 'Artificial intelligence (AI) is intelligence demonstrated by machines, as opposed to the natural intelligence displayed by animals including humans. Leading AI textbooks define the field as the study of \"intelligent agents\": any system that perceives its environment and takes actions that maximize its chance of achieving its goals.Some popular accounts use the term \"artificial intelligence\" to describe machines that mimic \"cognitive\" functions that humans associate with the human mind, such as \"learning\" and \"problem-solving\", however, this definition is rejected by major AI researchers.AI applications include advanced web search engines (e.g., Google), recommendation systems (used by YouTube, Amazon and Netflix), understanding human speech (such as Siri and Alexa), self-driving cars (e.g., Tesla), automated decision-making and competing at the highest level in strategic game systems (such as chess and Go).\\nAs machines become increasingly capable, tasks considered to require \"intelligence\" are often removed from the definition of AI, a phenomenon known as the AI effect.  For instance, optical character recognition is frequently excluded from things considered to be AI, having become a routine technology.Artificial intelligence was founded as an academic discipline in 1956, and in the years since has experienced several waves of optimism, followed by disappointment and the loss of funding (known as an \"AI winter\"), followed by new approaches, success and renewed funding. AI research has tried and discarded many different approaches since its founding, including simulating the brain, modeling human problem solving, formal logic, large databases of knowledge and imitating animal behavior. In the first decades of the 21st century, highly mathematical-statistical machine learning has dominated the field, and this technique has proved highly successful, helping to solve many challenging problems throughout industry and academia.The various sub-fields of AI research are centered around particular goals and the use of particular tools. The traditional goals of AI research include reasoning, knowledge representation, planning, learning, natural language processing, perception, and the ability to move and manipulate objects. General intelligence (the ability to solve an arbitrary problem) is among the field\\'s long-term goals. To solve these problems, AI researchers have adapted and integrated a wide range of problem-solving techniques—including search and mathematical optimization, formal logic, artificial neural networks, and methods based on statistics, probability and economics. AI also draws upon computer science, psychology, linguistics, philosophy, and many other fields.\\nThe field was founded on the assumption that human intelligence \"can be so precisely described that a machine can be made to simulate it\".\\nThis raises philosophical arguments about the mind and the ethics of creating artificial beings endowed with human-like intelligence. These issues have been explored by myth, fiction, and philosophy since antiquity.Science fiction and futurology have also suggested that, with its enormous potential and power, AI may become an existential risk to humanity.'\n",
            " 'A.I. Artificial Intelligence (also known as A.I.) is a 2001 American science fiction drama film directed by Steven Spielberg. The screenplay by Spielberg and screen story by Ian Watson were based on the 1969 short story \"Supertoys Last All Summer Long\" by Brian Aldiss. The film was produced by Kathleen Kennedy, Spielberg and Bonnie Curtis. It stars Haley Joel Osment, Jude Law, Frances O\\'Connor, Brendan Gleeson and William Hurt. Set in a futuristic post-climate change society, A.I. tells the story of David (Osment), a childlike android uniquely programmed with the ability to love.\\nDevelopment of A.I. originally began with producer-director Stanley Kubrick, after he acquired the rights to Aldiss\\' story in the early 1970s. Kubrick hired a series of writers until the mid-1990s, including Brian Aldiss, Bob Shaw, Ian Watson, and Sara Maitland. The film languished in development hell for years, partly because Kubrick felt computer-generated imagery was not advanced enough to create the David character, whom he believed no child actor would convincingly portray. In 1995, Kubrick handed A.I. to Spielberg, but the film did not gain momentum until Kubrick\\'s death in 1999. Spielberg remained close to Watson\\'s film treatment for the screenplay.\\nA.I. Artificial Intelligence was released in North America on June 29, 2001, by Warner Bros. Pictures and internationally by DreamWorks Pictures. The film received generally positive reviews from critics and grossed approximately $235 million against a budget of $90–100 million. It was nominated for Best Visual Effects and Best Original Score at the 74th Academy Awards. In a 2016 BBC poll of 177 critics around the world, A.I. Artificial Intelligence was voted the eighty-third-greatest film since 2000. A.I. is dedicated to Kubrick.'\n",
            " 'Artificial general intelligence (AGI) is the hypothetical ability of an intelligent agent to understand or learn any intellectual task that a human being can.\\nIt is a primary goal of some artificial intelligence research and a common topic in science fiction and futures studies. AGI can also be referred to as strong AI, full AI, \\nor general intelligent action (although some academic sources reserve the term \"strong AI\" for computer programs that experience sentience or consciousness.)In contrast to strong AI, weak AI or \"narrow AI\" is not intended to have general cognitive abilities; rather, weak AI is any program that is designed to solve exactly one problem. (Academic sources reserve \"weak AI\" for programs that do not experience consciousness or do not have a mind in the same sense people do.). Recently, it has been argued that the current research on both AI and cognitive modelling are perfectly aligned with the weak-AI hypothesis (that should not be confused with the \"general\" vs \"narrow\" AI distinction) and that the popular assumption that cognitively inspired AI systems spouse the strong AI hypothesis is  ill-posed and problematic since \"artificial models of brain and mind can be used to understand mental phenomena without pretending that that they are the real phenomena that they are modelling\"  (as, on the other hand, implied by the strong AI assumption).\\nA 2020 survey identified 72 active AGI R&D projects spread across 37 countries.'\n",
            " 'The history of artificial intelligence (AI) began in antiquity, with myths, stories and rumors of artificial beings endowed with intelligence or consciousness by master craftsmen. The seeds of modern AI were planted by classical philosophers who attempted to describe the process of human thinking as the mechanical manipulation of symbols. This work culminated in the invention of the programmable digital computer in the 1940s, a machine based on the abstract essence of mathematical reasoning. This device and the ideas behind it inspired a handful of scientists to begin seriously discussing the possibility of building an electronic brain.\\nThe field of AI research was founded at a workshop held on the campus of Dartmouth College, USA during the summer of 1956. Those who attended would become the leaders of AI research for decades. Many of them predicted that a machine as intelligent as a human being would exist in no more than a generation, and they were given millions of dollars to make this vision come true.Eventually, it became obvious that commercial developers and researchers had grossly underestimated the difficulty of the project. In 1974, in response to the criticism from James Lighthill and ongoing pressure from congress, the U.S. and British Governments stopped funding undirected research into artificial intelligence, and the difficult years that followed would later be known as an \"AI winter\". Seven years later, a visionary initiative by the Japanese Government inspired governments and industry to provide AI with billions of dollars, but by the late 80s the investors became disillusioned and withdrew funding again.\\nInvestment and interest in AI boomed in the first decades of the 21st century when machine learning was successfully applied to many problems in academia and industry due to new methods, the application of powerful computer hardware, and the collection of immense data sets.']\n"
          ]
        }
      ]
    },
    {
      "cell_type": "markdown",
      "source": [
        "# **Data Preprocessing**"
      ],
      "metadata": {
        "id": "3bE6YykkXtHH"
      }
    },
    {
      "cell_type": "code",
      "source": [
        "df = df.applymap(gensim.utils.simple_preprocess)"
      ],
      "metadata": {
        "id": "b9So6PHEX3xl"
      },
      "execution_count": 10,
      "outputs": []
    },
    {
      "cell_type": "code",
      "source": [
        "df"
      ],
      "metadata": {
        "colab": {
          "base_uri": "https://localhost:8080/",
          "height": 337
        },
        "id": "Mh_gdX4BPpgO",
        "outputId": "8921b5bf-441a-41a9-b9d5-7bd6d73a6c3b"
      },
      "execution_count": 11,
      "outputs": [
        {
          "output_type": "execute_result",
          "data": {
            "text/plain": [
              "                                                                      DOC1  \\\n",
              "Football                 [football, is, family, of, team, sports, that,...   \n",
              "Linux                    [linux, listen, lee, nuuks, or, lin, uuks, is,...   \n",
              "Health                   [health, according, to, the, world, health, or...   \n",
              "Music                    [music, is, the, art, of, arranging, sounds, i...   \n",
              "Artificial Intelligence  [artificial, intelligence, ai, is, intelligenc...   \n",
              "\n",
              "                                                                      DOC2  \\\n",
              "Football                 [football, player, or, footballer, is, sportsp...   \n",
              "Linux                    [the, linux, kernel, is, mostly, free, and, op...   \n",
              "Health                   [health, also, known, as, health, and, is, ame...   \n",
              "Music                    [music, is, an, art, form, consisting, of, sou...   \n",
              "Artificial Intelligence  [artificial, intelligence, also, known, as, is...   \n",
              "\n",
              "                                                                      DOC3  \\\n",
              "Football                 [college, football, is, gridiron, football, co...   \n",
              "Linux                    [linux, distribution, often, abbreviated, as, ...   \n",
              "Health                   [mental, health, encompasses, emotional, psych...   \n",
              "Music                    [classical, music, generally, refers, to, the,...   \n",
              "Artificial Intelligence  [artificial, general, intelligence, agi, is, t...   \n",
              "\n",
              "                                                                      DOC4  \n",
              "Football                 [association, football, more, commonly, known,...  \n",
              "Linux                    [linux, mint, is, community, driven, linux, di...  \n",
              "Health                   [health, care, or, healthcare, is, the, mainte...  \n",
              "Music                    [music, video, is, video, of, variable, length...  \n",
              "Artificial Intelligence  [the, history, of, artificial, intelligence, a...  "
            ],
            "text/html": [
              "\n",
              "  <div id=\"df-e99d6143-4370-49b8-a339-d39833767008\">\n",
              "    <div class=\"colab-df-container\">\n",
              "      <div>\n",
              "<style scoped>\n",
              "    .dataframe tbody tr th:only-of-type {\n",
              "        vertical-align: middle;\n",
              "    }\n",
              "\n",
              "    .dataframe tbody tr th {\n",
              "        vertical-align: top;\n",
              "    }\n",
              "\n",
              "    .dataframe thead th {\n",
              "        text-align: right;\n",
              "    }\n",
              "</style>\n",
              "<table border=\"1\" class=\"dataframe\">\n",
              "  <thead>\n",
              "    <tr style=\"text-align: right;\">\n",
              "      <th></th>\n",
              "      <th>DOC1</th>\n",
              "      <th>DOC2</th>\n",
              "      <th>DOC3</th>\n",
              "      <th>DOC4</th>\n",
              "    </tr>\n",
              "  </thead>\n",
              "  <tbody>\n",
              "    <tr>\n",
              "      <th>Football</th>\n",
              "      <td>[football, is, family, of, team, sports, that,...</td>\n",
              "      <td>[football, player, or, footballer, is, sportsp...</td>\n",
              "      <td>[college, football, is, gridiron, football, co...</td>\n",
              "      <td>[association, football, more, commonly, known,...</td>\n",
              "    </tr>\n",
              "    <tr>\n",
              "      <th>Linux</th>\n",
              "      <td>[linux, listen, lee, nuuks, or, lin, uuks, is,...</td>\n",
              "      <td>[the, linux, kernel, is, mostly, free, and, op...</td>\n",
              "      <td>[linux, distribution, often, abbreviated, as, ...</td>\n",
              "      <td>[linux, mint, is, community, driven, linux, di...</td>\n",
              "    </tr>\n",
              "    <tr>\n",
              "      <th>Health</th>\n",
              "      <td>[health, according, to, the, world, health, or...</td>\n",
              "      <td>[health, also, known, as, health, and, is, ame...</td>\n",
              "      <td>[mental, health, encompasses, emotional, psych...</td>\n",
              "      <td>[health, care, or, healthcare, is, the, mainte...</td>\n",
              "    </tr>\n",
              "    <tr>\n",
              "      <th>Music</th>\n",
              "      <td>[music, is, the, art, of, arranging, sounds, i...</td>\n",
              "      <td>[music, is, an, art, form, consisting, of, sou...</td>\n",
              "      <td>[classical, music, generally, refers, to, the,...</td>\n",
              "      <td>[music, video, is, video, of, variable, length...</td>\n",
              "    </tr>\n",
              "    <tr>\n",
              "      <th>Artificial Intelligence</th>\n",
              "      <td>[artificial, intelligence, ai, is, intelligenc...</td>\n",
              "      <td>[artificial, intelligence, also, known, as, is...</td>\n",
              "      <td>[artificial, general, intelligence, agi, is, t...</td>\n",
              "      <td>[the, history, of, artificial, intelligence, a...</td>\n",
              "    </tr>\n",
              "  </tbody>\n",
              "</table>\n",
              "</div>\n",
              "      <button class=\"colab-df-convert\" onclick=\"convertToInteractive('df-e99d6143-4370-49b8-a339-d39833767008')\"\n",
              "              title=\"Convert this dataframe to an interactive table.\"\n",
              "              style=\"display:none;\">\n",
              "        \n",
              "  <svg xmlns=\"http://www.w3.org/2000/svg\" height=\"24px\"viewBox=\"0 0 24 24\"\n",
              "       width=\"24px\">\n",
              "    <path d=\"M0 0h24v24H0V0z\" fill=\"none\"/>\n",
              "    <path d=\"M18.56 5.44l.94 2.06.94-2.06 2.06-.94-2.06-.94-.94-2.06-.94 2.06-2.06.94zm-11 1L8.5 8.5l.94-2.06 2.06-.94-2.06-.94L8.5 2.5l-.94 2.06-2.06.94zm10 10l.94 2.06.94-2.06 2.06-.94-2.06-.94-.94-2.06-.94 2.06-2.06.94z\"/><path d=\"M17.41 7.96l-1.37-1.37c-.4-.4-.92-.59-1.43-.59-.52 0-1.04.2-1.43.59L10.3 9.45l-7.72 7.72c-.78.78-.78 2.05 0 2.83L4 21.41c.39.39.9.59 1.41.59.51 0 1.02-.2 1.41-.59l7.78-7.78 2.81-2.81c.8-.78.8-2.07 0-2.86zM5.41 20L4 18.59l7.72-7.72 1.47 1.35L5.41 20z\"/>\n",
              "  </svg>\n",
              "      </button>\n",
              "      \n",
              "  <style>\n",
              "    .colab-df-container {\n",
              "      display:flex;\n",
              "      flex-wrap:wrap;\n",
              "      gap: 12px;\n",
              "    }\n",
              "\n",
              "    .colab-df-convert {\n",
              "      background-color: #E8F0FE;\n",
              "      border: none;\n",
              "      border-radius: 50%;\n",
              "      cursor: pointer;\n",
              "      display: none;\n",
              "      fill: #1967D2;\n",
              "      height: 32px;\n",
              "      padding: 0 0 0 0;\n",
              "      width: 32px;\n",
              "    }\n",
              "\n",
              "    .colab-df-convert:hover {\n",
              "      background-color: #E2EBFA;\n",
              "      box-shadow: 0px 1px 2px rgba(60, 64, 67, 0.3), 0px 1px 3px 1px rgba(60, 64, 67, 0.15);\n",
              "      fill: #174EA6;\n",
              "    }\n",
              "\n",
              "    [theme=dark] .colab-df-convert {\n",
              "      background-color: #3B4455;\n",
              "      fill: #D2E3FC;\n",
              "    }\n",
              "\n",
              "    [theme=dark] .colab-df-convert:hover {\n",
              "      background-color: #434B5C;\n",
              "      box-shadow: 0px 1px 3px 1px rgba(0, 0, 0, 0.15);\n",
              "      filter: drop-shadow(0px 1px 2px rgba(0, 0, 0, 0.3));\n",
              "      fill: #FFFFFF;\n",
              "    }\n",
              "  </style>\n",
              "\n",
              "      <script>\n",
              "        const buttonEl =\n",
              "          document.querySelector('#df-e99d6143-4370-49b8-a339-d39833767008 button.colab-df-convert');\n",
              "        buttonEl.style.display =\n",
              "          google.colab.kernel.accessAllowed ? 'block' : 'none';\n",
              "\n",
              "        async function convertToInteractive(key) {\n",
              "          const element = document.querySelector('#df-e99d6143-4370-49b8-a339-d39833767008');\n",
              "          const dataTable =\n",
              "            await google.colab.kernel.invokeFunction('convertToInteractive',\n",
              "                                                     [key], {});\n",
              "          if (!dataTable) return;\n",
              "\n",
              "          const docLinkHtml = 'Like what you see? Visit the ' +\n",
              "            '<a target=\"_blank\" href=https://colab.research.google.com/notebooks/data_table.ipynb>data table notebook</a>'\n",
              "            + ' to learn more about interactive tables.';\n",
              "          element.innerHTML = '';\n",
              "          dataTable['output_type'] = 'display_data';\n",
              "          await google.colab.output.renderOutput(dataTable, element);\n",
              "          const docLink = document.createElement('div');\n",
              "          docLink.innerHTML = docLinkHtml;\n",
              "          element.appendChild(docLink);\n",
              "        }\n",
              "      </script>\n",
              "    </div>\n",
              "  </div>\n",
              "  "
            ]
          },
          "metadata": {},
          "execution_count": 11
        }
      ]
    },
    {
      "cell_type": "code",
      "source": [
        "data = df.values\n",
        "data = data.reshape((20,)).tolist()\n",
        "print(*data, sep='\\n')"
      ],
      "metadata": {
        "colab": {
          "base_uri": "https://localhost:8080/"
        },
        "id": "j88oLxqiXz5r",
        "outputId": "21d12bc7-076d-4ab9-c8b5-b986c94a0124"
      },
      "execution_count": 12,
      "outputs": [
        {
          "output_type": "stream",
          "name": "stdout",
          "text": [
            "['football', 'is', 'family', 'of', 'team', 'sports', 'that', 'involve', 'to', 'varying', 'degrees', 'kicking', 'ball', 'to', 'score', 'goal', 'unqualified', 'the', 'word', 'football', 'normally', 'means', 'the', 'form', 'of', 'football', 'that', 'is', 'the', 'most', 'popular', 'where', 'the', 'word', 'is', 'used', 'sports', 'commonly', 'called', 'football', 'include', 'association', 'football', 'known', 'as', 'soccer', 'in', 'north', 'america', 'and', 'oceania', 'gridiron', 'football', 'specifically', 'american', 'football', 'or', 'canadian', 'football', 'australian', 'rules', 'football', 'rugby', 'union', 'and', 'rugby', 'league', 'and', 'gaelic', 'football', 'these', 'various', 'forms', 'of', 'football', 'share', 'to', 'varying', 'extent', 'common', 'origins', 'and', 'are', 'known', 'as', 'football', 'codes', 'there', 'are', 'number', 'of', 'references', 'to', 'traditional', 'ancient', 'or', 'prehistoric', 'ball', 'games', 'played', 'in', 'many', 'different', 'parts', 'of', 'the', 'world', 'contemporary', 'codes', 'of', 'football', 'can', 'be', 'traced', 'back', 'to', 'the', 'codification', 'of', 'these', 'games', 'at', 'english', 'public', 'schools', 'during', 'the', 'th', 'century', 'the', 'expansion', 'and', 'cultural', 'influence', 'of', 'the', 'british', 'empire', 'allowed', 'these', 'rules', 'of', 'football', 'to', 'spread', 'to', 'areas', 'of', 'british', 'influence', 'outside', 'the', 'directly', 'controlled', 'empire', 'by', 'the', 'end', 'of', 'the', 'th', 'century', 'distinct', 'regional', 'codes', 'were', 'already', 'developing', 'gaelic', 'football', 'for', 'example', 'deliberately', 'incorporated', 'the', 'rules', 'of', 'local', 'traditional', 'football', 'games', 'in', 'order', 'to', 'maintain', 'their', 'heritage', 'in', 'the', 'football', 'league', 'was', 'founded', 'in', 'england', 'becoming', 'the', 'first', 'of', 'many', 'professional', 'football', 'associations', 'during', 'the', 'th', 'century', 'several', 'of', 'the', 'various', 'kinds', 'of', 'football', 'grew', 'to', 'become', 'some', 'of', 'the', 'most', 'popular', 'team', 'sports', 'in', 'the', 'world']\n",
            "['football', 'player', 'or', 'footballer', 'is', 'sportsperson', 'who', 'plays', 'one', 'of', 'the', 'different', 'types', 'of', 'football', 'the', 'main', 'types', 'of', 'football', 'are', 'association', 'football', 'american', 'football', 'canadian', 'football', 'australian', 'rules', 'football', 'gaelic', 'football', 'rugby', 'league', 'and', 'rugby', 'union', 'it', 'has', 'been', 'estimated', 'that', 'there', 'are', 'million', 'association', 'football', 'players', 'in', 'the', 'world', 'and', 'many', 'play', 'the', 'other', 'forms', 'of', 'football']\n",
            "['college', 'football', 'is', 'gridiron', 'football', 'consisting', 'of', 'american', 'football', 'played', 'by', 'teams', 'of', 'student', 'athletes', 'fielded', 'by', 'american', 'universities', 'colleges', 'and', 'military', 'academies', 'or', 'canadian', 'football', 'played', 'by', 'teams', 'of', 'student', 'athletes', 'fielded', 'by', 'canadian', 'universities', 'it', 'was', 'through', 'college', 'football', 'play', 'that', 'american', 'football', 'rules', 'first', 'gained', 'popularity', 'in', 'the', 'united', 'states', 'unlike', 'most', 'other', 'sports', 'in', 'north', 'america', 'no', 'official', 'minor', 'league', 'farm', 'organizations', 'exist', 'in', 'american', 'or', 'canadian', 'football', 'therefore', 'college', 'football', 'is', 'generally', 'considered', 'to', 'be', 'the', 'second', 'tier', 'of', 'american', 'football', 'in', 'the', 'united', 'states', 'and', 'canadian', 'football', 'in', 'canada', 'one', 'step', 'ahead', 'of', 'high', 'school', 'competition', 'and', 'one', 'step', 'below', 'professional', 'competition', 'however', 'in', 'some', 'areas', 'of', 'the', 'country', 'the', 'south', 'and', 'the', 'midwest', 'college', 'football', 'is', 'far', 'more', 'popular', 'than', 'professional', 'football', 'and', 'for', 'much', 'of', 'the', 'early', 'th', 'century', 'college', 'football', 'was', 'seen', 'as', 'more', 'prestigious', 'than', 'professional', 'football', 'player', 'performance', 'in', 'college', 'football', 'directly', 'impacts', 'his', 'chances', 'of', 'playing', 'professional', 'football', 'the', 'best', 'collegiate', 'players', 'will', 'typically', 'declare', 'for', 'the', 'professional', 'draft', 'after', 'three', 'to', 'four', 'years', 'of', 'collegiate', 'competition', 'with', 'the', 'nfl', 'holding', 'its', 'annual', 'nfl', 'draft', 'every', 'spring', 'in', 'which', 'players', 'are', 'selected', 'annually', 'those', 'not', 'selected', 'can', 'still', 'attempt', 'to', 'land', 'an', 'nfl', 'roster', 'spot', 'as', 'an', 'undrafted', 'free', 'agent']\n",
            "['association', 'football', 'more', 'commonly', 'known', 'as', 'simply', 'football', 'or', 'soccer', 'is', 'team', 'sport', 'played', 'with', 'spherical', 'ball', 'between', 'two', 'teams', 'of', 'players', 'it', 'is', 'played', 'by', 'approximately', 'million', 'players', 'in', 'over', 'countries', 'and', 'dependencies', 'making', 'it', 'the', 'world', 'most', 'popular', 'sport', 'the', 'game', 'is', 'played', 'on', 'rectangular', 'field', 'called', 'pitch', 'with', 'goal', 'at', 'each', 'end', 'the', 'objective', 'of', 'the', 'game', 'is', 'to', 'score', 'more', 'goals', 'than', 'the', 'opposition', 'by', 'moving', 'the', 'ball', 'beyond', 'the', 'goal', 'line', 'into', 'the', 'opposing', 'goal', 'usually', 'within', 'time', 'frame', 'of', 'or', 'more', 'minutes', 'football', 'is', 'played', 'in', 'accordance', 'with', 'set', 'of', 'rules', 'known', 'as', 'the', 'laws', 'of', 'the', 'game', 'the', 'ball', 'is', 'cm', 'in', 'in', 'circumference', 'and', 'known', 'as', 'the', 'football', 'the', 'two', 'teams', 'compete', 'to', 'get', 'the', 'ball', 'into', 'the', 'other', 'team', 'goal', 'between', 'the', 'posts', 'and', 'under', 'the', 'bar', 'thereby', 'scoring', 'goal', 'players', 'are', 'not', 'allowed', 'to', 'touch', 'the', 'ball', 'with', 'hands', 'or', 'arms', 'while', 'it', 'is', 'in', 'play', 'except', 'for', 'the', 'goalkeepers', 'within', 'the', 'penalty', 'area', 'players', 'may', 'use', 'any', 'other', 'part', 'of', 'their', 'body', 'to', 'strike', 'or', 'pass', 'the', 'ball', 'and', 'mainly', 'use', 'their', 'feet', 'the', 'team', 'that', 'has', 'scored', 'more', 'goals', 'at', 'the', 'end', 'of', 'the', 'game', 'is', 'the', 'winner', 'if', 'both', 'teams', 'have', 'scored', 'an', 'equal', 'number', 'of', 'goals', 'either', 'draw', 'is', 'declared', 'or', 'the', 'game', 'goes', 'into', 'extra', 'time', 'or', 'penalty', 'shootout', 'depending', 'on', 'the', 'format', 'of', 'the', 'competition', 'each', 'team', 'is', 'led', 'by', 'captain', 'who', 'has', 'only', 'one', 'official', 'responsibility', 'as', 'mandated', 'by', 'the', 'laws', 'of', 'the', 'game', 'to', 'represent', 'their', 'team', 'in', 'the', 'coin', 'toss', 'before', 'kick', 'off', 'or', 'penalty', 'kicks', 'football', 'is', 'governed', 'internationally', 'by', 'the', 'international', 'federation', 'of', 'association', 'football', 'fifa', 'french', 'fédération', 'internationale', 'de', 'football', 'association', 'which', 'organises', 'world', 'cups', 'for', 'men', 'and', 'women', 'every', 'four', 'years', 'the', 'men', 'fifa', 'world', 'cup', 'has', 'taken', 'place', 'every', 'four', 'years', 'since', 'with', 'the', 'exception', 'of', 'and', 'tournaments', 'which', 'were', 'cancelled', 'due', 'to', 'world', 'war', 'ii', 'approximately', 'national', 'teams', 'compete', 'in', 'qualifying', 'tournaments', 'within', 'the', 'scope', 'of', 'continental', 'confederations', 'for', 'place', 'in', 'the', 'finals', 'the', 'finals', 'tournament', 'is', 'held', 'every', 'four', 'years', 'and', 'involves', 'national', 'teams', 'competing', 'over', 'four', 'weeks', 'it', 'is', 'the', 'most', 'prestigious', 'men', 'football', 'tournament', 'in', 'the', 'world', 'and', 'the', 'most', 'widely', 'viewed', 'and', 'followed', 'sporting', 'event', 'in', 'the', 'world', 'exceeding', 'the', 'olympic', 'games', 'similarly', 'the', 'fifa', 'women', 'world', 'cup', 'has', 'been', 'played', 'every', 'four', 'years', 'since', 'though', 'football', 'has', 'been', 'played', 'by', 'women', 'since', 'it', 'has', 'existed', 'record', 'breaking', 'billion', 'viewers', 'watched', 'the', 'fifa', 'women', 'world', 'cup', 'in', 'france', 'the', 'most', 'prestigious', 'competitions', 'in', 'european', 'club', 'football', 'are', 'the', 'uefa', 'champions', 'league', 'and', 'uefa', 'women', 'champions', 'league', 'which', 'attract', 'an', 'extensive', 'television', 'audience', 'throughout', 'the', 'world', 'the', 'final', 'of', 'the', 'men', 'tournament', 'has', 'been', 'in', 'recent', 'years', 'the', 'most', 'watched', 'annual', 'sporting', 'event', 'in', 'the', 'world', 'the', 'top', 'five', 'european', 'men', 'leagues', 'are', 'the', 'premier', 'league', 'england', 'la', 'liga', 'spain', 'bundesliga', 'germany', 'serie', 'italy', 'and', 'ligue', 'france', 'attracting', 'most', 'of', 'the', 'world', 'best', 'players', 'each', 'of', 'the', 'leagues', 'has', 'total', 'wage', 'cost', 'in', 'excess', 'of', 'million', 'million', 'us', 'billion']\n",
            "['linux', 'listen', 'lee', 'nuuks', 'or', 'lin', 'uuks', 'is', 'family', 'of', 'open', 'source', 'unix', 'like', 'operating', 'systems', 'based', 'on', 'the', 'linux', 'kernel', 'an', 'operating', 'system', 'kernel', 'first', 'released', 'on', 'september', 'by', 'linus', 'torvalds', 'linux', 'is', 'typically', 'packaged', 'in', 'linux', 'distribution', 'distributions', 'include', 'the', 'linux', 'kernel', 'and', 'supporting', 'system', 'software', 'and', 'libraries', 'many', 'of', 'which', 'are', 'provided', 'by', 'the', 'gnu', 'project', 'many', 'linux', 'distributions', 'use', 'the', 'word', 'linux', 'in', 'their', 'name', 'but', 'the', 'free', 'software', 'foundation', 'uses', 'the', 'name', 'gnu', 'linux', 'to', 'emphasize', 'the', 'importance', 'of', 'gnu', 'software', 'causing', 'some', 'controversy', 'popular', 'linux', 'distributions', 'include', 'debian', 'fedora', 'linux', 'and', 'ubuntu', 'which', 'in', 'itself', 'has', 'many', 'different', 'distributions', 'and', 'modifications', 'including', 'lubuntu', 'and', 'xubuntu', 'commercial', 'distributions', 'include', 'red', 'hat', 'enterprise', 'linux', 'and', 'suse', 'linux', 'enterprise', 'desktop', 'linux', 'distributions', 'include', 'windowing', 'system', 'such', 'as', 'or', 'wayland', 'and', 'desktop', 'environment', 'such', 'as', 'gnome', 'or', 'kde', 'plasma', 'distributions', 'intended', 'for', 'servers', 'may', 'omit', 'graphics', 'altogether', 'or', 'include', 'solution', 'stack', 'such', 'as', 'lamp', 'because', 'linux', 'is', 'freely', 'redistributable', 'anyone', 'may', 'create', 'distribution', 'for', 'any', 'purpose', 'linux', 'was', 'originally', 'developed', 'for', 'personal', 'computers', 'based', 'on', 'the', 'intel', 'architecture', 'but', 'has', 'since', 'been', 'ported', 'to', 'more', 'platforms', 'than', 'any', 'other', 'operating', 'system', 'because', 'of', 'the', 'dominance', 'of', 'the', 'linux', 'based', 'android', 'on', 'smartphones', 'linux', 'also', 'has', 'the', 'largest', 'installed', 'base', 'of', 'all', 'general', 'purpose', 'operating', 'systems', 'although', 'linux', 'is', 'used', 'by', 'only', 'around', 'percent', 'of', 'desktop', 'computers', 'the', 'chromebook', 'which', 'runs', 'the', 'linux', 'kernel', 'based', 'chrome', 'os', 'dominates', 'the', 'us', 'education', 'market', 'and', 'represents', 'nearly', 'percent', 'of', 'sub', 'notebook', 'sales', 'in', 'the', 'us', 'linux', 'is', 'the', 'leading', 'operating', 'system', 'on', 'servers', 'over', 'of', 'the', 'top', 'million', 'web', 'servers', 'operating', 'systems', 'are', 'linux', 'leads', 'other', 'big', 'iron', 'systems', 'such', 'as', 'mainframe', 'computers', 'and', 'is', 'the', 'only', 'os', 'used', 'on', 'top', 'supercomputers', 'since', 'november', 'having', 'gradually', 'eliminated', 'all', 'competitors', 'linux', 'also', 'runs', 'on', 'embedded', 'systems', 'devices', 'whose', 'operating', 'system', 'is', 'typically', 'built', 'into', 'the', 'firmware', 'and', 'is', 'highly', 'tailored', 'to', 'the', 'system', 'this', 'includes', 'routers', 'automation', 'controls', 'smart', 'home', 'technology', 'televisions', 'samsung', 'and', 'lg', 'smart', 'tvs', 'use', 'tizen', 'and', 'webos', 'respectively', 'automobiles', 'for', 'example', 'tesla', 'audi', 'mercedes', 'benz', 'hyundai', 'and', 'toyota', 'all', 'rely', 'on', 'linux', 'digital', 'video', 'recorders', 'video', 'game', 'consoles', 'and', 'smartwatches', 'the', 'falcon', 'and', 'the', 'dragon', 'avionics', 'use', 'customized', 'version', 'of', 'linux', 'linux', 'is', 'one', 'of', 'the', 'most', 'prominent', 'examples', 'of', 'free', 'and', 'open', 'source', 'software', 'collaboration', 'the', 'source', 'code', 'may', 'be', 'used', 'modified', 'and', 'distributed', 'commercially', 'or', 'non', 'commercially', 'by', 'anyone', 'under', 'the', 'terms', 'of', 'its', 'respective', 'licenses', 'such', 'as', 'the', 'gnu', 'general', 'public', 'license']\n",
            "['the', 'linux', 'kernel', 'is', 'mostly', 'free', 'and', 'open', 'source', 'monolithic', 'modular', 'multitasking', 'unix', 'like', 'operating', 'system', 'kernel', 'it', 'was', 'originally', 'authored', 'in', 'by', 'linus', 'torvalds', 'for', 'his', 'based', 'pc', 'and', 'it', 'was', 'soon', 'adopted', 'as', 'the', 'kernel', 'for', 'the', 'gnu', 'operating', 'system', 'which', 'was', 'written', 'to', 'be', 'free', 'libre', 'replacement', 'for', 'unix', 'linux', 'as', 'whole', 'is', 'released', 'under', 'the', 'gnu', 'general', 'public', 'license', 'version', 'only', 'but', 'it', 'contains', 'files', 'under', 'other', 'compatible', 'licenses', 'however', 'linux', 'began', 'including', 'proprietary', 'binary', 'blobs', 'in', 'its', 'source', 'tree', 'and', 'main', 'distribution', 'in', 'this', 'led', 'to', 'other', 'projects', 'starting', 'work', 'to', 'remove', 'the', 'proprietary', 'blobs', 'in', 'order', 'to', 'produce', 'libre', 'kernel', 'which', 'eventually', 'led', 'to', 'the', 'linux', 'libre', 'project', 'being', 'founded', 'since', 'the', 'late', 'it', 'has', 'been', 'included', 'as', 'part', 'of', 'large', 'number', 'of', 'operating', 'system', 'distributions', 'many', 'of', 'which', 'are', 'commonly', 'also', 'called', 'linux', 'however', 'there', 'is', 'controversy', 'surrounding', 'the', 'naming', 'of', 'such', 'systems', 'some', 'people', 'including', 'richard', 'stallman', 'argue', 'calling', 'such', 'systems', 'linux', 'is', 'erroneous', 'because', 'the', 'operating', 'system', 'is', 'actually', 'mostly', 'gnu', 'with', 'the', 'linux', 'kernel', 'being', 'one', 'component', 'added', 'later', 'on', 'in', 'years', 'after', 'the', 'initiation', 'of', 'the', 'gnu', 'project', 'in', 'hence', 'the', 'name', 'gnu', 'linux', 'or', 'gnu', 'linux', 'should', 'be', 'used', 'instead', 'linux', 'is', 'deployed', 'on', 'wide', 'variety', 'of', 'computing', 'systems', 'such', 'as', 'embedded', 'devices', 'mobile', 'devices', 'including', 'its', 'use', 'in', 'the', 'android', 'operating', 'system', 'personal', 'computers', 'servers', 'mainframes', 'and', 'supercomputers', 'it', 'can', 'be', 'tailored', 'for', 'specific', 'architectures', 'and', 'for', 'several', 'usage', 'scenarios', 'using', 'family', 'of', 'simple', 'commands', 'that', 'is', 'without', 'the', 'need', 'of', 'manually', 'editing', 'its', 'source', 'code', 'before', 'compilation', 'privileged', 'users', 'can', 'also', 'fine', 'tune', 'kernel', 'parameters', 'at', 'runtime', 'most', 'of', 'the', 'linux', 'kernel', 'code', 'is', 'written', 'using', 'the', 'gnu', 'extensions', 'of', 'gcc', 'to', 'the', 'standard', 'programming', 'language', 'and', 'with', 'the', 'use', 'of', 'architecture', 'specific', 'instructions', 'isa', 'this', 'produces', 'highly', 'optimized', 'executable', 'vmlinux', 'with', 'respect', 'to', 'utilization', 'of', 'memory', 'space', 'and', 'task', 'execution', 'times', 'day', 'to', 'day', 'development', 'discussions', 'take', 'place', 'on', 'the', 'linux', 'kernel', 'mailing', 'list', 'lkml', 'changes', 'are', 'tracked', 'using', 'the', 'version', 'control', 'system', 'git', 'which', 'was', 'originally', 'authored', 'by', 'torvalds', 'as', 'free', 'software', 'replacement', 'for', 'bitkeeper']\n",
            "['linux', 'distribution', 'often', 'abbreviated', 'as', 'distro', 'is', 'an', 'operating', 'system', 'made', 'from', 'software', 'collection', 'that', 'includes', 'the', 'linux', 'kernel', 'and', 'often', 'package', 'management', 'system', 'linux', 'users', 'usually', 'obtain', 'their', 'operating', 'system', 'by', 'downloading', 'one', 'of', 'the', 'linux', 'distributions', 'which', 'are', 'available', 'for', 'wide', 'variety', 'of', 'systems', 'ranging', 'from', 'embedded', 'devices', 'for', 'example', 'openwrt', 'and', 'personal', 'computers', 'for', 'example', 'linux', 'mint', 'to', 'powerful', 'supercomputers', 'for', 'example', 'rocks', 'cluster', 'distribution', 'typical', 'linux', 'distribution', 'comprises', 'linux', 'kernel', 'gnu', 'tools', 'and', 'libraries', 'additional', 'software', 'documentation', 'window', 'system', 'the', 'most', 'common', 'being', 'the', 'window', 'system', 'or', 'more', 'recently', 'wayland', 'window', 'manager', 'and', 'desktop', 'environment', 'most', 'of', 'the', 'included', 'software', 'is', 'free', 'and', 'open', 'source', 'software', 'made', 'available', 'both', 'as', 'compiled', 'binaries', 'and', 'in', 'source', 'code', 'form', 'allowing', 'modifications', 'to', 'the', 'original', 'software', 'usually', 'linux', 'distributions', 'optionally', 'include', 'some', 'proprietary', 'software', 'that', 'may', 'not', 'be', 'available', 'in', 'source', 'code', 'form', 'such', 'as', 'binary', 'blobs', 'required', 'for', 'some', 'device', 'drivers', 'linux', 'distribution', 'may', 'also', 'be', 'described', 'as', 'particular', 'assortment', 'of', 'application', 'and', 'utility', 'software', 'various', 'gnu', 'tools', 'and', 'libraries', 'for', 'example', 'packaged', 'together', 'with', 'the', 'linux', 'kernel', 'in', 'such', 'way', 'that', 'its', 'capabilities', 'meet', 'the', 'needs', 'of', 'many', 'users', 'the', 'software', 'is', 'usually', 'adapted', 'to', 'the', 'distribution', 'and', 'then', 'packaged', 'into', 'software', 'packages', 'by', 'the', 'distribution', 'maintainers', 'the', 'software', 'packages', 'are', 'available', 'online', 'in', 'repositories', 'which', 'are', 'storage', 'locations', 'usually', 'distributed', 'around', 'the', 'world', 'beside', 'glue', 'components', 'such', 'as', 'the', 'distribution', 'installers', 'for', 'example', 'debian', 'installer', 'and', 'anaconda', 'or', 'the', 'package', 'management', 'systems', 'there', 'are', 'only', 'very', 'few', 'packages', 'that', 'are', 'originally', 'written', 'from', 'the', 'ground', 'up', 'by', 'the', 'maintainers', 'of', 'linux', 'distribution', 'almost', 'one', 'thousand', 'linux', 'distributions', 'exist', 'because', 'of', 'the', 'huge', 'availability', 'of', 'software', 'distributions', 'have', 'taken', 'wide', 'variety', 'of', 'forms', 'including', 'those', 'suitable', 'for', 'use', 'on', 'desktops', 'servers', 'laptops', 'netbooks', 'mobile', 'phones', 'and', 'tablets', 'as', 'well', 'as', 'minimal', 'environments', 'typically', 'for', 'use', 'in', 'embedded', 'systems', 'there', 'are', 'commercially', 'backed', 'distributions', 'such', 'as', 'fedora', 'linux', 'red', 'hat', 'opensuse', 'suse', 'and', 'ubuntu', 'canonical', 'ltd', 'and', 'entirely', 'community', 'driven', 'distributions', 'such', 'as', 'debian', 'slackware', 'gentoo', 'and', 'arch', 'linux', 'most', 'distributions', 'come', 'ready', 'to', 'use', 'and', 'pre', 'compiled', 'for', 'specific', 'instruction', 'set', 'while', 'some', 'distributions', 'such', 'as', 'gentoo', 'are', 'distributed', 'mostly', 'in', 'source', 'code', 'form', 'and', 'compiled', 'locally', 'during', 'installation']\n",
            "['linux', 'mint', 'is', 'community', 'driven', 'linux', 'distribution', 'based', 'on', 'ubuntu', 'which', 'is', 'in', 'turn', 'based', 'on', 'debian', 'bundled', 'with', 'variety', 'of', 'free', 'and', 'open', 'source', 'applications', 'it', 'can', 'provide', 'full', 'out', 'of', 'the', 'box', 'multimedia', 'support', 'for', 'those', 'who', 'choose', 'to', 'include', 'proprietary', 'software', 'such', 'as', 'multimedia', 'codecs', 'the', 'linux', 'mint', 'project', 'was', 'created', 'by', 'clément', 'lefèbvre', 'and', 'is', 'actively', 'maintained', 'by', 'the', 'linux', 'mint', 'team', 'and', 'community']\n",
            "['health', 'according', 'to', 'the', 'world', 'health', 'organization', 'is', 'state', 'of', 'complete', 'physical', 'mental', 'and', 'social', 'well', 'being', 'and', 'not', 'merely', 'the', 'absence', 'of', 'disease', 'and', 'infirmity', 'variety', 'of', 'definitions', 'have', 'been', 'used', 'for', 'different', 'purposes', 'over', 'time', 'health', 'can', 'be', 'promoted', 'by', 'encouraging', 'healthful', 'activities', 'such', 'as', 'regular', 'physical', 'exercise', 'and', 'adequate', 'sleep', 'and', 'by', 'reducing', 'or', 'avoiding', 'unhealthful', 'activities', 'or', 'situations', 'such', 'as', 'smoking', 'or', 'excessive', 'stress', 'some', 'factors', 'affecting', 'health', 'are', 'due', 'to', 'individual', 'choices', 'such', 'as', 'whether', 'to', 'engage', 'in', 'high', 'risk', 'behavior', 'while', 'others', 'are', 'due', 'to', 'structural', 'causes', 'such', 'as', 'whether', 'the', 'society', 'is', 'arranged', 'in', 'way', 'that', 'makes', 'it', 'easier', 'or', 'harder', 'for', 'people', 'to', 'get', 'necessary', 'healthcare', 'services', 'still', 'other', 'factors', 'are', 'beyond', 'both', 'individual', 'and', 'group', 'choices', 'such', 'as', 'genetic', 'disorders']\n",
            "['health', 'also', 'known', 'as', 'health', 'and', 'is', 'american', 'ensemble', 'comedy', 'film', 'the', 'fifteenth', 'feature', 'project', 'from', 'director', 'robert', 'altman', 'it', 'stars', 'carol', 'burnett', 'glenda', 'jackson', 'james', 'garner', 'lauren', 'bacall', 'and', 'paul', 'dooley', 'and', 'was', 'written', 'by', 'altman', 'dooley', 'and', 'frank', 'barhydt', 'the', 'film', 'title', 'is', 'an', 'acronym', 'for', 'happiness', 'energy', 'and', 'longevity', 'through', 'health', 'parody', 'and', 'satire', 'of', 'the', 'political', 'scene', 'of', 'the', 'time', 'health', 'is', 'set', 'at', 'health', 'food', 'convention', 'at', 'florida', 'luxury', 'hotel', 'where', 'powerful', 'political', 'organization', 'is', 'deciding', 'on', 'new', 'president', 'the', 'election', 'is', 'rife', 'with', 'backroom', 'deals', 'and', 'scandal', 'businessman', 'colonel', 'cody', 'is', 'out', 'to', 'rig', 'the', 'votes', 'and', 'the', 'outcome', 'dick', 'cavett', 'and', 'dinah', 'shore', 'two', 'television', 'talk', 'show', 'personalities', 'of', 'the', 'time', 'are', 'mentioned', 'prominently', 'in', 'the', 'film', 'health', 'was', 'made', 'by', 'robert', 'altman', 'company', 'lion', 'gate', 'films', 'no', 'relation', 'to', 'lionsgate', 'films', 'in', 'early', 'it', 'was', 'the', 'director', 'last', 'film', 'for', 'the', 'th', 'century', 'fox', 'studio', 'which', 'shelved', 'its', 'official', 'release', 'for', 'over', 'two', 'years', 'despite', 'this', 'it', 'received', 'festival', 'showings', 'and', 'brief', 'los', 'angeles', 'run', 'during', 'the', 'film', 'was', 'broadcast', 'on', 'various', 'television', 'stations', 'over', 'the', 'years', 'including', 'the', 'movie', 'channel', 'and', 'fox', 'movie', 'channel', 'but', 'has', 'never', 'been', 'issued', 'on', 'home', 'video']\n",
            "['mental', 'health', 'encompasses', 'emotional', 'psychological', 'and', 'social', 'well', 'being', 'it', 'influences', 'cognition', 'perception', 'and', 'behavior', 'it', 'also', 'determines', 'how', 'an', 'individual', 'handles', 'stress', 'interpersonal', 'relationships', 'and', 'decision', 'making', 'mental', 'health', 'includes', 'subjective', 'well', 'being', 'perceived', 'self', 'efficacy', 'autonomy', 'competence', 'dependence', 'and', 'self', 'actualization', 'of', 'one', 'intellectual', 'and', 'emotional', 'potential', 'among', 'others', 'from', 'the', 'perspectives', 'of', 'positive', 'psychology', 'or', 'holism', 'mental', 'health', 'may', 'include', 'an', 'individual', 'ability', 'to', 'enjoy', 'life', 'and', 'to', 'create', 'balance', 'between', 'life', 'activities', 'and', 'efforts', 'to', 'achieve', 'psychological', 'resilience', 'cultural', 'differences', 'subjective', 'assessments', 'and', 'competing', 'professional', 'theories', 'all', 'affect', 'how', 'one', 'defines', 'mental', 'health', 'some', 'early', 'signs', 'related', 'to', 'mental', 'health', 'problems', 'are', 'sleep', 'irritation', 'lack', 'of', 'energy', 'and', 'thinking', 'of', 'harming', 'yourself', 'or', 'others']\n",
            "['health', 'care', 'or', 'healthcare', 'is', 'the', 'maintenance', 'or', 'improvement', 'of', 'health', 'via', 'the', 'prevention', 'diagnosis', 'treatment', 'amelioration', 'or', 'cure', 'of', 'disease', 'illness', 'injury', 'and', 'other', 'physical', 'and', 'mental', 'impairments', 'in', 'people', 'health', 'care', 'is', 'delivered', 'by', 'health', 'professionals', 'and', 'allied', 'health', 'fields', 'medicine', 'dentistry', 'pharmacy', 'midwifery', 'nursing', 'optometry', 'audiology', 'psychology', 'occupational', 'therapy', 'physical', 'therapy', 'athletic', 'training', 'and', 'other', 'health', 'professions', 'are', 'all', 'part', 'of', 'health', 'care', 'it', 'includes', 'work', 'done', 'in', 'providing', 'primary', 'care', 'secondary', 'care', 'and', 'tertiary', 'care', 'as', 'well', 'as', 'in', 'public', 'health', 'access', 'to', 'health', 'care', 'may', 'vary', 'across', 'countries', 'communities', 'and', 'individuals', 'influenced', 'by', 'social', 'and', 'economic', 'conditions', 'as', 'well', 'as', 'health', 'policies', 'providing', 'health', 'care', 'services', 'means', 'the', 'timely', 'use', 'of', 'personal', 'health', 'services', 'to', 'achieve', 'the', 'best', 'possible', 'health', 'outcomes', 'factors', 'to', 'consider', 'in', 'terms', 'of', 'health', 'care', 'access', 'include', 'financial', 'limitations', 'such', 'as', 'insurance', 'coverage', 'geographic', 'barriers', 'such', 'as', 'additional', 'transportation', 'costs', 'the', 'possibility', 'to', 'take', 'paid', 'time', 'off', 'of', 'work', 'to', 'use', 'such', 'services', 'and', 'personal', 'limitations', 'lack', 'of', 'ability', 'to', 'communicate', 'with', 'health', 'care', 'providers', 'poor', 'health', 'literacy', 'low', 'income', 'limitations', 'to', 'health', 'care', 'services', 'affects', 'negatively', 'the', 'use', 'of', 'medical', 'services', 'the', 'efficacy', 'of', 'treatments', 'and', 'overall', 'outcome', 'well', 'being', 'mortality', 'rates', 'health', 'care', 'systems', 'are', 'organizations', 'established', 'to', 'meet', 'the', 'health', 'needs', 'of', 'targeted', 'populations', 'according', 'to', 'the', 'world', 'health', 'organization', 'who', 'well', 'functioning', 'health', 'care', 'system', 'requires', 'financing', 'mechanism', 'well', 'trained', 'and', 'adequately', 'paid', 'workforce', 'reliable', 'information', 'on', 'which', 'to', 'base', 'decisions', 'and', 'policies', 'and', 'well', 'maintained', 'health', 'facilities', 'to', 'deliver', 'quality', 'medicines', 'and', 'technologies', 'an', 'efficient', 'health', 'care', 'system', 'can', 'contribute', 'to', 'significant', 'part', 'of', 'country', 'economy', 'development', 'and', 'health', 'care', 'is', 'conventionally', 'regarded', 'as', 'an', 'important', 'determinant', 'in', 'promoting', 'the', 'general', 'physical', 'and', 'mental', 'health', 'and', 'well', 'being', 'of', 'people', 'around', 'the', 'world', 'an', 'example', 'of', 'this', 'was', 'the', 'worldwide', 'eradication', 'of', 'smallpox', 'in', 'declared', 'by', 'the', 'who', 'as', 'the', 'first', 'disease', 'in', 'human', 'history', 'to', 'be', 'eliminated', 'by', 'deliberate', 'health', 'care', 'interventions']\n",
            "['music', 'is', 'the', 'art', 'of', 'arranging', 'sounds', 'in', 'time', 'through', 'the', 'elements', 'of', 'melody', 'harmony', 'rhythm', 'and', 'timbre', 'it', 'is', 'one', 'of', 'the', 'universal', 'cultural', 'aspects', 'of', 'all', 'human', 'societies', 'general', 'definitions', 'of', 'music', 'include', 'common', 'elements', 'such', 'as', 'pitch', 'which', 'governs', 'melody', 'and', 'harmony', 'rhythm', 'and', 'its', 'associated', 'concepts', 'tempo', 'meter', 'and', 'articulation', 'dynamics', 'loudness', 'and', 'softness', 'and', 'the', 'sonic', 'qualities', 'of', 'timbre', 'and', 'texture', 'which', 'are', 'sometimes', 'termed', 'the', 'color', 'of', 'musical', 'sound', 'different', 'styles', 'or', 'types', 'of', 'music', 'may', 'emphasize', 'de', 'emphasize', 'or', 'omit', 'some', 'of', 'these', 'elements', 'music', 'is', 'performed', 'with', 'vast', 'range', 'of', 'instruments', 'and', 'vocal', 'techniques', 'ranging', 'from', 'singing', 'to', 'rapping', 'there', 'are', 'solely', 'instrumental', 'pieces', 'solely', 'vocal', 'pieces', 'such', 'as', 'songs', 'without', 'instrumental', 'accompaniment', 'and', 'pieces', 'that', 'combine', 'singing', 'and', 'instruments', 'the', 'word', 'derives', 'from', 'greek', 'μουσική', 'mousiké', 'art', 'of', 'the', 'muses', 'in', 'its', 'most', 'general', 'form', 'the', 'activities', 'describing', 'music', 'as', 'an', 'art', 'form', 'or', 'cultural', 'activity', 'include', 'the', 'creation', 'of', 'works', 'of', 'music', 'songs', 'tunes', 'symphonies', 'and', 'so', 'on', 'the', 'criticism', 'of', 'music', 'the', 'study', 'of', 'the', 'history', 'of', 'music', 'and', 'the', 'aesthetic', 'examination', 'of', 'music', 'ancient', 'greek', 'and', 'indian', 'philosophers', 'defined', 'music', 'in', 'two', 'parts', 'melodies', 'as', 'tones', 'ordered', 'horizontally', 'and', 'harmonies', 'as', 'tones', 'ordered', 'vertically', 'common', 'sayings', 'such', 'as', 'the', 'harmony', 'of', 'the', 'spheres', 'and', 'it', 'is', 'music', 'to', 'my', 'ears', 'point', 'to', 'the', 'notion', 'that', 'music', 'is', 'often', 'ordered', 'and', 'pleasant', 'to', 'listen', 'to', 'however', 'th', 'century', 'composer', 'john', 'cage', 'thought', 'that', 'any', 'sound', 'can', 'be', 'music', 'saying', 'for', 'example', 'there', 'is', 'no', 'noise', 'only', 'sound', 'the', 'creation', 'performance', 'significance', 'and', 'even', 'the', 'definition', 'of', 'music', 'vary', 'according', 'to', 'culture', 'and', 'social', 'context', 'indeed', 'throughout', 'history', 'some', 'new', 'forms', 'or', 'styles', 'of', 'music', 'have', 'been', 'criticized', 'as', 'not', 'being', 'music', 'including', 'beethoven', 'grosse', 'fuge', 'string', 'quartet', 'in', 'early', 'jazz', 'in', 'the', 'beginning', 'of', 'the', 'and', 'hardcore', 'punk', 'in', 'the', 'there', 'are', 'many', 'types', 'of', 'music', 'including', 'popular', 'music', 'traditional', 'music', 'art', 'music', 'music', 'written', 'for', 'religious', 'ceremonies', 'and', 'work', 'songs', 'such', 'as', 'chanteys', 'music', 'ranges', 'from', 'strictly', 'organized', 'compositions', 'such', 'as', 'classical', 'music', 'symphonies', 'from', 'the', 'and', 'through', 'to', 'spontaneously', 'played', 'improvisational', 'music', 'such', 'as', 'jazz', 'and', 'avant', 'garde', 'styles', 'of', 'chance', 'based', 'contemporary', 'music', 'from', 'the', 'th', 'and', 'st', 'centuries', 'music', 'can', 'be', 'divided', 'into', 'genres', 'country', 'music', 'and', 'genres', 'can', 'be', 'further', 'divided', 'into', 'subgenres', 'alternative', 'country', 'and', 'country', 'pop', 'are', 'two', 'of', 'the', 'many', 'country', 'subgenres', 'although', 'the', 'dividing', 'lines', 'and', 'relationships', 'between', 'music', 'genres', 'are', 'often', 'subtle', 'sometimes', 'open', 'to', 'personal', 'interpretation', 'and', 'occasionally', 'controversial', 'for', 'example', 'it', 'can', 'be', 'hard', 'to', 'draw', 'the', 'line', 'between', 'some', 'early', 'hard', 'rock', 'and', 'heavy', 'metal', 'within', 'the', 'arts', 'music', 'may', 'be', 'classified', 'as', 'performing', 'art', 'fine', 'art', 'or', 'as', 'an', 'auditory', 'art', 'music', 'may', 'be', 'played', 'or', 'sung', 'and', 'heard', 'live', 'at', 'rock', 'concert', 'or', 'orchestra', 'performance', 'heard', 'live', 'as', 'part', 'of', 'dramatic', 'work', 'music', 'theater', 'show', 'or', 'opera', 'or', 'it', 'may', 'be', 'recorded', 'and', 'listened', 'to', 'on', 'radio', 'mp', 'player', 'cd', 'player', 'smartphone', 'or', 'as', 'film', 'score', 'or', 'tv', 'show', 'in', 'many', 'cultures', 'music', 'is', 'an', 'important', 'part', 'of', 'people', 'way', 'of', 'life', 'as', 'it', 'plays', 'key', 'role', 'in', 'religious', 'rituals', 'rite', 'of', 'passage', 'ceremonies', 'graduation', 'and', 'marriage', 'social', 'activities', 'dancing', 'and', 'cultural', 'activities', 'ranging', 'from', 'amateur', 'karaoke', 'singing', 'to', 'playing', 'in', 'an', 'amateur', 'funk', 'band', 'or', 'singing', 'in', 'community', 'choir', 'people', 'may', 'make', 'music', 'as', 'hobby', 'like', 'teen', 'playing', 'cello', 'in', 'youth', 'orchestra', 'or', 'work', 'as', 'professional', 'musician', 'or', 'singer', 'the', 'music', 'industry', 'includes', 'the', 'individuals', 'who', 'create', 'new', 'songs', 'and', 'musical', 'pieces', 'such', 'as', 'songwriters', 'and', 'composers', 'individuals', 'who', 'perform', 'music', 'which', 'include', 'orchestra', 'jazz', 'band', 'and', 'rock', 'band', 'musicians', 'singers', 'and', 'conductors', 'individuals', 'who', 'record', 'music', 'music', 'producers', 'and', 'sound', 'engineers', 'individuals', 'who', 'organize', 'concert', 'tours', 'and', 'individuals', 'who', 'sell', 'recordings', 'sheet', 'music', 'and', 'scores', 'to', 'customers', 'even', 'once', 'song', 'or', 'piece', 'has', 'been', 'performed', 'music', 'critics', 'music', 'journalists', 'and', 'music', 'scholars', 'may', 'assess', 'and', 'evaluate', 'the', 'piece', 'and', 'its', 'performance']\n",
            "['music', 'is', 'an', 'art', 'form', 'consisting', 'of', 'sound', 'and', 'silence', 'expressed', 'through', 'time', 'music', 'may', 'also', 'refer', 'to']\n",
            "['classical', 'music', 'generally', 'refers', 'to', 'the', 'formal', 'musical', 'tradition', 'of', 'the', 'western', 'world', 'considered', 'to', 'be', 'distinct', 'from', 'western', 'folk', 'music', 'or', 'popular', 'music', 'traditions', 'it', 'is', 'sometimes', 'distinguished', 'as', 'western', 'classical', 'music', 'as', 'the', 'term', 'classical', 'music', 'may', 'also', 'refer', 'to', 'non', 'western', 'traditions', 'which', 'exhibit', 'similar', 'formal', 'qualities', 'in', 'addition', 'to', 'formality', 'classical', 'music', 'is', 'often', 'characterized', 'by', 'complexity', 'in', 'its', 'musical', 'form', 'and', 'harmonic', 'organization', 'particularly', 'with', 'the', 'use', 'of', 'polyphony', 'since', 'at', 'least', 'the', 'th', 'century', 'it', 'has', 'been', 'primarily', 'written', 'tradition', 'spawning', 'sophisticated', 'notational', 'system', 'as', 'well', 'as', 'accompanying', 'literature', 'in', 'analytical', 'critical', 'musicological', 'and', 'philosophical', 'practices', 'foundational', 'component', 'of', 'western', 'culture', 'classical', 'music', 'is', 'frequently', 'seen', 'from', 'the', 'perspective', 'of', 'individual', 'or', 'groups', 'of', 'composers', 'whose', 'compositions', 'personalities', 'and', 'beliefs', 'have', 'fundamentally', 'shaped', 'its', 'history', 'rooted', 'in', 'the', 'patronage', 'of', 'churches', 'and', 'royal', 'courts', 'in', 'western', 'europe', 'early', 'medieval', 'music', 'was', 'chiefly', 'religious', 'monophonic', 'and', 'vocal', 'with', 'the', 'music', 'of', 'ancient', 'greece', 'and', 'rome', 'influencing', 'its', 'thought', 'and', 'theory', 'the', 'earliest', 'extant', 'music', 'manuscripts', 'date', 'from', 'the', 'carolingian', 'empire', 'around', 'the', 'time', 'which', 'western', 'plainchant', 'gradually', 'unified', 'into', 'what', 'is', 'termed', 'gregorian', 'chant', 'musical', 'centers', 'existed', 'at', 'the', 'abbey', 'of', 'saint', 'gall', 'the', 'abbey', 'of', 'saint', 'martial', 'and', 'saint', 'emmeram', 'abbey', 'while', 'the', 'th', 'century', 'saw', 'the', 'development', 'of', 'staff', 'notation', 'and', 'increasing', 'output', 'from', 'medieval', 'music', 'theorists', 'by', 'the', 'mid', 'th', 'century', 'france', 'became', 'the', 'major', 'european', 'musical', 'center', 'the', 'religious', 'notre', 'dame', 'school', 'first', 'fully', 'explored', 'organized', 'rhythms', 'and', 'polyphony', 'while', 'secular', 'music', 'flourished', 'with', 'the', 'troubadour', 'and', 'trouvère', 'traditions', 'led', 'by', 'poet', 'musician', 'nobles', 'this', 'culminated', 'in', 'the', 'court', 'sponsored', 'french', 'ars', 'nova', 'and', 'italian', 'trecento', 'which', 'evolved', 'into', 'ars', 'subtilior', 'stylistic', 'movement', 'of', 'extreme', 'rhythmic', 'diversity', 'beginning', 'in', 'the', 'early', 'th', 'century', 'renaissance', 'composers', 'of', 'the', 'influential', 'franco', 'flemish', 'school', 'built', 'off', 'the', 'harmonic', 'principles', 'in', 'the', 'english', 'contenance', 'angloise', 'bringing', 'sacred', 'music', 'to', 'new', 'standards', 'particularly', 'the', 'mass', 'and', 'motet', 'northern', 'italy', 'soon', 'emerged', 'as', 'the', 'central', 'musical', 'region', 'where', 'the', 'roman', 'school', 'engaged', 'in', 'highly', 'sophisticated', 'methods', 'of', 'polyphony', 'in', 'genres', 'such', 'as', 'the', 'madrigal', 'which', 'inspired', 'the', 'brief', 'english', 'madrigal', 'school', 'the', 'baroque', 'period', 'saw', 'the', 'relative', 'standardization', 'of', 'common', 'practice', 'tonality', 'as', 'well', 'as', 'the', 'increasing', 'importance', 'of', 'musical', 'instruments', 'which', 'grew', 'into', 'ensembles', 'of', 'considerable', 'size', 'italy', 'remained', 'dominant', 'being', 'the', 'birthplace', 'of', 'opera', 'the', 'soloist', 'centered', 'concerto', 'genre', 'the', 'organized', 'sonata', 'form', 'as', 'well', 'as', 'the', 'large', 'scale', 'vocal', 'centered', 'genres', 'of', 'oratorio', 'and', 'cantata', 'the', 'fugue', 'technique', 'championed', 'by', 'johann', 'sebastian', 'bach', 'exemplified', 'the', 'baroque', 'tendency', 'for', 'complexity', 'and', 'as', 'reaction', 'the', 'simpler', 'and', 'song', 'like', 'galant', 'music', 'and', 'empfindsamkeit', 'styles', 'were', 'developed', 'in', 'the', 'shorter', 'but', 'pivotal', 'classical', 'period', 'composers', 'such', 'as', 'wolfgang', 'amadeus', 'mozart', 'joseph', 'haydn', 'and', 'ludwig', 'van', 'beethoven', 'created', 'widely', 'admired', 'representatives', 'of', 'absolute', 'music', 'including', 'symphonies', 'string', 'quartets', 'and', 'concertos', 'the', 'subsequent', 'romantic', 'music', 'focused', 'instead', 'on', 'programmatic', 'music', 'for', 'which', 'the', 'art', 'song', 'symphonic', 'poem', 'and', 'various', 'piano', 'genres', 'were', 'important', 'vessels', 'during', 'this', 'time', 'virtuosity', 'was', 'celebrated', 'immensity', 'was', 'encouraged', 'while', 'philosophy', 'and', 'nationalism', 'were', 'embedded', 'all', 'aspects', 'that', 'converged', 'in', 'the', 'operas', 'of', 'richard', 'wagner', 'by', 'the', 'th', 'century', 'stylistic', 'unification', 'gradually', 'dissipated', 'while', 'the', 'prominence', 'of', 'popular', 'music', 'greatly', 'increased', 'many', 'composers', 'actively', 'avoided', 'past', 'techniques', 'and', 'genres', 'in', 'the', 'lens', 'of', 'modernism', 'with', 'some', 'abandoning', 'tonality', 'in', 'place', 'of', 'serialism', 'while', 'others', 'found', 'new', 'inspiration', 'in', 'folk', 'melodies', 'or', 'impressionist', 'sentiments', 'after', 'world', 'war', 'ii', 'for', 'the', 'first', 'time', 'audience', 'members', 'valued', 'older', 'music', 'over', 'contemporary', 'works', 'preference', 'which', 'has', 'been', 'catered', 'to', 'by', 'the', 'emergence', 'and', 'widespread', 'availability', 'of', 'commercial', 'recordings', 'trends', 'of', 'the', 'mid', 'th', 'century', 'to', 'the', 'present', 'day', 'include', 'new', 'simplicity', 'new', 'complexity', 'minimalism', 'spectral', 'music', 'and', 'more', 'recently', 'postmodern', 'music', 'and', 'postminimalism', 'increasingly', 'global', 'practitioners', 'from', 'the', 'americas', 'africa', 'and', 'asia', 'have', 'obtained', 'crucial', 'roles', 'while', 'symphony', 'orchestras', 'and', 'opera', 'houses', 'now', 'appear', 'across', 'the', 'world']\n",
            "['music', 'video', 'is', 'video', 'of', 'variable', 'length', 'that', 'integrates', 'music', 'song', 'or', 'music', 'album', 'with', 'imagery', 'that', 'is', 'produced', 'for', 'promotional', 'or', 'musical', 'artistic', 'purposes', 'modern', 'music', 'videos', 'are', 'primarily', 'made', 'and', 'used', 'as', 'music', 'marketing', 'device', 'intended', 'to', 'promote', 'the', 'sale', 'of', 'music', 'recordings', 'there', 'are', 'also', 'cases', 'where', 'music', 'songs', 'are', 'used', 'in', 'tie', 'in', 'music', 'marketing', 'campaigns', 'that', 'allow', 'them', 'to', 'become', 'more', 'than', 'just', 'song', 'tie', 'ins', 'and', 'music', 'merchandising', 'can', 'be', 'used', 'for', 'toys', 'or', 'for', 'food', 'or', 'other', 'products', 'although', 'the', 'origins', 'of', 'music', 'videos', 'date', 'back', 'to', 'musical', 'short', 'films', 'that', 'first', 'appeared', 'they', 'again', 'came', 'into', 'prominence', 'when', 'paramount', 'global', 'mtv', 'based', 'its', 'format', 'around', 'the', 'medium', 'these', 'kinds', 'of', 'videos', 'were', 'described', 'by', 'various', 'terms', 'including', 'illustrated', 'song', 'filmed', 'insert', 'promotional', 'promo', 'film', 'promotional', 'clip', 'promotional', 'video', 'song', 'video', 'song', 'clip', 'film', 'clip', 'or', 'simply', 'video', 'music', 'videos', 'use', 'wide', 'range', 'of', 'styles', 'and', 'contemporary', 'video', 'making', 'techniques', 'including', 'animation', 'live', 'action', 'documentary', 'and', 'non', 'narrative', 'approaches', 'such', 'as', 'abstract', 'film', 'some', 'music', 'videos', 'combine', 'different', 'styles', 'with', 'music', 'such', 'as', 'animation', 'and', 'live', 'action', 'combining', 'these', 'styles', 'and', 'techniques', 'has', 'become', 'more', 'popular', 'due', 'to', 'the', 'variety', 'for', 'the', 'audience', 'many', 'music', 'videos', 'interpret', 'images', 'and', 'scenes', 'from', 'the', 'song', 'lyrics', 'while', 'others', 'take', 'more', 'thematic', 'approach', 'other', 'music', 'videos', 'may', 'not', 'have', 'any', 'concept', 'being', 'only', 'filmed', 'version', 'of', 'the', 'song', 'live', 'concert', 'performance']\n",
            "['artificial', 'intelligence', 'ai', 'is', 'intelligence', 'demonstrated', 'by', 'machines', 'as', 'opposed', 'to', 'the', 'natural', 'intelligence', 'displayed', 'by', 'animals', 'including', 'humans', 'leading', 'ai', 'textbooks', 'define', 'the', 'field', 'as', 'the', 'study', 'of', 'intelligent', 'agents', 'any', 'system', 'that', 'perceives', 'its', 'environment', 'and', 'takes', 'actions', 'that', 'maximize', 'its', 'chance', 'of', 'achieving', 'its', 'goals', 'some', 'popular', 'accounts', 'use', 'the', 'term', 'artificial', 'intelligence', 'to', 'describe', 'machines', 'that', 'mimic', 'cognitive', 'functions', 'that', 'humans', 'associate', 'with', 'the', 'human', 'mind', 'such', 'as', 'learning', 'and', 'problem', 'solving', 'however', 'this', 'definition', 'is', 'rejected', 'by', 'major', 'ai', 'researchers', 'ai', 'applications', 'include', 'advanced', 'web', 'search', 'engines', 'google', 'recommendation', 'systems', 'used', 'by', 'youtube', 'amazon', 'and', 'netflix', 'understanding', 'human', 'speech', 'such', 'as', 'siri', 'and', 'alexa', 'self', 'driving', 'cars', 'tesla', 'automated', 'decision', 'making', 'and', 'competing', 'at', 'the', 'highest', 'level', 'in', 'strategic', 'game', 'systems', 'such', 'as', 'chess', 'and', 'go', 'as', 'machines', 'become', 'increasingly', 'capable', 'tasks', 'considered', 'to', 'require', 'intelligence', 'are', 'often', 'removed', 'from', 'the', 'definition', 'of', 'ai', 'phenomenon', 'known', 'as', 'the', 'ai', 'effect', 'for', 'instance', 'optical', 'character', 'recognition', 'is', 'frequently', 'excluded', 'from', 'things', 'considered', 'to', 'be', 'ai', 'having', 'become', 'routine', 'technology', 'artificial', 'intelligence', 'was', 'founded', 'as', 'an', 'academic', 'discipline', 'in', 'and', 'in', 'the', 'years', 'since', 'has', 'experienced', 'several', 'waves', 'of', 'optimism', 'followed', 'by', 'disappointment', 'and', 'the', 'loss', 'of', 'funding', 'known', 'as', 'an', 'ai', 'winter', 'followed', 'by', 'new', 'approaches', 'success', 'and', 'renewed', 'funding', 'ai', 'research', 'has', 'tried', 'and', 'discarded', 'many', 'different', 'approaches', 'since', 'its', 'founding', 'including', 'simulating', 'the', 'brain', 'modeling', 'human', 'problem', 'solving', 'formal', 'logic', 'large', 'databases', 'of', 'knowledge', 'and', 'imitating', 'animal', 'behavior', 'in', 'the', 'first', 'decades', 'of', 'the', 'st', 'century', 'highly', 'mathematical', 'statistical', 'machine', 'learning', 'has', 'dominated', 'the', 'field', 'and', 'this', 'technique', 'has', 'proved', 'highly', 'successful', 'helping', 'to', 'solve', 'many', 'challenging', 'problems', 'throughout', 'industry', 'and', 'academia', 'the', 'various', 'sub', 'fields', 'of', 'ai', 'research', 'are', 'centered', 'around', 'particular', 'goals', 'and', 'the', 'use', 'of', 'particular', 'tools', 'the', 'traditional', 'goals', 'of', 'ai', 'research', 'include', 'reasoning', 'knowledge', 'representation', 'planning', 'learning', 'natural', 'language', 'processing', 'perception', 'and', 'the', 'ability', 'to', 'move', 'and', 'manipulate', 'objects', 'general', 'intelligence', 'the', 'ability', 'to', 'solve', 'an', 'arbitrary', 'problem', 'is', 'among', 'the', 'field', 'long', 'term', 'goals', 'to', 'solve', 'these', 'problems', 'ai', 'researchers', 'have', 'adapted', 'and', 'integrated', 'wide', 'range', 'of', 'problem', 'solving', 'techniques', 'including', 'search', 'and', 'mathematical', 'optimization', 'formal', 'logic', 'artificial', 'neural', 'networks', 'and', 'methods', 'based', 'on', 'statistics', 'probability', 'and', 'economics', 'ai', 'also', 'draws', 'upon', 'computer', 'science', 'psychology', 'linguistics', 'philosophy', 'and', 'many', 'other', 'fields', 'the', 'field', 'was', 'founded', 'on', 'the', 'assumption', 'that', 'human', 'intelligence', 'can', 'be', 'so', 'precisely', 'described', 'that', 'machine', 'can', 'be', 'made', 'to', 'simulate', 'it', 'this', 'raises', 'philosophical', 'arguments', 'about', 'the', 'mind', 'and', 'the', 'ethics', 'of', 'creating', 'artificial', 'beings', 'endowed', 'with', 'human', 'like', 'intelligence', 'these', 'issues', 'have', 'been', 'explored', 'by', 'myth', 'fiction', 'and', 'philosophy', 'since', 'antiquity', 'science', 'fiction', 'and', 'futurology', 'have', 'also', 'suggested', 'that', 'with', 'its', 'enormous', 'potential', 'and', 'power', 'ai', 'may', 'become', 'an', 'existential', 'risk', 'to', 'humanity']\n",
            "['artificial', 'intelligence', 'also', 'known', 'as', 'is', 'american', 'science', 'fiction', 'drama', 'film', 'directed', 'by', 'steven', 'spielberg', 'the', 'screenplay', 'by', 'spielberg', 'and', 'screen', 'story', 'by', 'ian', 'watson', 'were', 'based', 'on', 'the', 'short', 'story', 'supertoys', 'last', 'all', 'summer', 'long', 'by', 'brian', 'aldiss', 'the', 'film', 'was', 'produced', 'by', 'kathleen', 'kennedy', 'spielberg', 'and', 'bonnie', 'curtis', 'it', 'stars', 'haley', 'joel', 'osment', 'jude', 'law', 'frances', 'connor', 'brendan', 'gleeson', 'and', 'william', 'hurt', 'set', 'in', 'futuristic', 'post', 'climate', 'change', 'society', 'tells', 'the', 'story', 'of', 'david', 'osment', 'childlike', 'android', 'uniquely', 'programmed', 'with', 'the', 'ability', 'to', 'love', 'development', 'of', 'originally', 'began', 'with', 'producer', 'director', 'stanley', 'kubrick', 'after', 'he', 'acquired', 'the', 'rights', 'to', 'aldiss', 'story', 'in', 'the', 'early', 'kubrick', 'hired', 'series', 'of', 'writers', 'until', 'the', 'mid', 'including', 'brian', 'aldiss', 'bob', 'shaw', 'ian', 'watson', 'and', 'sara', 'maitland', 'the', 'film', 'languished', 'in', 'development', 'hell', 'for', 'years', 'partly', 'because', 'kubrick', 'felt', 'computer', 'generated', 'imagery', 'was', 'not', 'advanced', 'enough', 'to', 'create', 'the', 'david', 'character', 'whom', 'he', 'believed', 'no', 'child', 'actor', 'would', 'convincingly', 'portray', 'in', 'kubrick', 'handed', 'to', 'spielberg', 'but', 'the', 'film', 'did', 'not', 'gain', 'momentum', 'until', 'kubrick', 'death', 'in', 'spielberg', 'remained', 'close', 'to', 'watson', 'film', 'treatment', 'for', 'the', 'screenplay', 'artificial', 'intelligence', 'was', 'released', 'in', 'north', 'america', 'on', 'june', 'by', 'warner', 'bros', 'pictures', 'and', 'internationally', 'by', 'dreamworks', 'pictures', 'the', 'film', 'received', 'generally', 'positive', 'reviews', 'from', 'critics', 'and', 'grossed', 'approximately', 'million', 'against', 'budget', 'of', 'million', 'it', 'was', 'nominated', 'for', 'best', 'visual', 'effects', 'and', 'best', 'original', 'score', 'at', 'the', 'th', 'academy', 'awards', 'in', 'bbc', 'poll', 'of', 'critics', 'around', 'the', 'world', 'artificial', 'intelligence', 'was', 'voted', 'the', 'eighty', 'third', 'greatest', 'film', 'since', 'is', 'dedicated', 'to', 'kubrick']\n",
            "['artificial', 'general', 'intelligence', 'agi', 'is', 'the', 'hypothetical', 'ability', 'of', 'an', 'intelligent', 'agent', 'to', 'understand', 'or', 'learn', 'any', 'intellectual', 'task', 'that', 'human', 'being', 'can', 'it', 'is', 'primary', 'goal', 'of', 'some', 'artificial', 'intelligence', 'research', 'and', 'common', 'topic', 'in', 'science', 'fiction', 'and', 'futures', 'studies', 'agi', 'can', 'also', 'be', 'referred', 'to', 'as', 'strong', 'ai', 'full', 'ai', 'or', 'general', 'intelligent', 'action', 'although', 'some', 'academic', 'sources', 'reserve', 'the', 'term', 'strong', 'ai', 'for', 'computer', 'programs', 'that', 'experience', 'sentience', 'or', 'consciousness', 'in', 'contrast', 'to', 'strong', 'ai', 'weak', 'ai', 'or', 'narrow', 'ai', 'is', 'not', 'intended', 'to', 'have', 'general', 'cognitive', 'abilities', 'rather', 'weak', 'ai', 'is', 'any', 'program', 'that', 'is', 'designed', 'to', 'solve', 'exactly', 'one', 'problem', 'academic', 'sources', 'reserve', 'weak', 'ai', 'for', 'programs', 'that', 'do', 'not', 'experience', 'consciousness', 'or', 'do', 'not', 'have', 'mind', 'in', 'the', 'same', 'sense', 'people', 'do', 'recently', 'it', 'has', 'been', 'argued', 'that', 'the', 'current', 'research', 'on', 'both', 'ai', 'and', 'cognitive', 'modelling', 'are', 'perfectly', 'aligned', 'with', 'the', 'weak', 'ai', 'hypothesis', 'that', 'should', 'not', 'be', 'confused', 'with', 'the', 'general', 'vs', 'narrow', 'ai', 'distinction', 'and', 'that', 'the', 'popular', 'assumption', 'that', 'cognitively', 'inspired', 'ai', 'systems', 'spouse', 'the', 'strong', 'ai', 'hypothesis', 'is', 'ill', 'posed', 'and', 'problematic', 'since', 'artificial', 'models', 'of', 'brain', 'and', 'mind', 'can', 'be', 'used', 'to', 'understand', 'mental', 'phenomena', 'without', 'pretending', 'that', 'that', 'they', 'are', 'the', 'real', 'phenomena', 'that', 'they', 'are', 'modelling', 'as', 'on', 'the', 'other', 'hand', 'implied', 'by', 'the', 'strong', 'ai', 'assumption', 'survey', 'identified', 'active', 'agi', 'projects', 'spread', 'across', 'countries']\n",
            "['the', 'history', 'of', 'artificial', 'intelligence', 'ai', 'began', 'in', 'antiquity', 'with', 'myths', 'stories', 'and', 'rumors', 'of', 'artificial', 'beings', 'endowed', 'with', 'intelligence', 'or', 'consciousness', 'by', 'master', 'craftsmen', 'the', 'seeds', 'of', 'modern', 'ai', 'were', 'planted', 'by', 'classical', 'philosophers', 'who', 'attempted', 'to', 'describe', 'the', 'process', 'of', 'human', 'thinking', 'as', 'the', 'mechanical', 'manipulation', 'of', 'symbols', 'this', 'work', 'culminated', 'in', 'the', 'invention', 'of', 'the', 'programmable', 'digital', 'computer', 'in', 'the', 'machine', 'based', 'on', 'the', 'abstract', 'essence', 'of', 'mathematical', 'reasoning', 'this', 'device', 'and', 'the', 'ideas', 'behind', 'it', 'inspired', 'handful', 'of', 'scientists', 'to', 'begin', 'seriously', 'discussing', 'the', 'possibility', 'of', 'building', 'an', 'electronic', 'brain', 'the', 'field', 'of', 'ai', 'research', 'was', 'founded', 'at', 'workshop', 'held', 'on', 'the', 'campus', 'of', 'dartmouth', 'college', 'usa', 'during', 'the', 'summer', 'of', 'those', 'who', 'attended', 'would', 'become', 'the', 'leaders', 'of', 'ai', 'research', 'for', 'decades', 'many', 'of', 'them', 'predicted', 'that', 'machine', 'as', 'intelligent', 'as', 'human', 'being', 'would', 'exist', 'in', 'no', 'more', 'than', 'generation', 'and', 'they', 'were', 'given', 'millions', 'of', 'dollars', 'to', 'make', 'this', 'vision', 'come', 'true', 'eventually', 'it', 'became', 'obvious', 'that', 'commercial', 'developers', 'and', 'researchers', 'had', 'grossly', 'underestimated', 'the', 'difficulty', 'of', 'the', 'project', 'in', 'in', 'response', 'to', 'the', 'criticism', 'from', 'james', 'lighthill', 'and', 'ongoing', 'pressure', 'from', 'congress', 'the', 'and', 'british', 'governments', 'stopped', 'funding', 'undirected', 'research', 'into', 'artificial', 'intelligence', 'and', 'the', 'difficult', 'years', 'that', 'followed', 'would', 'later', 'be', 'known', 'as', 'an', 'ai', 'winter', 'seven', 'years', 'later', 'visionary', 'initiative', 'by', 'the', 'japanese', 'government', 'inspired', 'governments', 'and', 'industry', 'to', 'provide', 'ai', 'with', 'billions', 'of', 'dollars', 'but', 'by', 'the', 'late', 'the', 'investors', 'became', 'disillusioned', 'and', 'withdrew', 'funding', 'again', 'investment', 'and', 'interest', 'in', 'ai', 'boomed', 'in', 'the', 'first', 'decades', 'of', 'the', 'st', 'century', 'when', 'machine', 'learning', 'was', 'successfully', 'applied', 'to', 'many', 'problems', 'in', 'academia', 'and', 'industry', 'due', 'to', 'new', 'methods', 'the', 'application', 'of', 'powerful', 'computer', 'hardware', 'and', 'the', 'collection', 'of', 'immense', 'data', 'sets']\n"
          ]
        }
      ]
    },
    {
      "cell_type": "markdown",
      "source": [
        "# **Load Pretrained Model**"
      ],
      "metadata": {
        "id": "Sjmxi61o618-"
      }
    },
    {
      "cell_type": "code",
      "source": [
        "PATH = '/content/drive/MyDrive/GoogleNews-vectors-negative300.bin.gz'\n",
        "\n",
        "# Limit parameter used to avoid ram crashing (Memory issue)\n",
        "model = KeyedVectors.load_word2vec_format(PATH, binary=True, limit=100000)"
      ],
      "metadata": {
        "id": "AZ7JUV1T68HQ"
      },
      "execution_count": 13,
      "outputs": []
    },
    {
      "cell_type": "markdown",
      "source": [
        "# **Embedding Representation**"
      ],
      "metadata": {
        "id": "eZSFI6FxAjyz"
      }
    },
    {
      "cell_type": "code",
      "source": [
        "def cosine_sim(a, b):\n",
        "    return np.dot(a, b) / (np.linalg.norm(a) * np.linalg.norm(b))"
      ],
      "metadata": {
        "id": "sRkRIQhu_r8m"
      },
      "execution_count": 14,
      "outputs": []
    },
    {
      "cell_type": "code",
      "source": [
        "def avg_sentence(sentence, wv):\n",
        "  v = np.zeros(model.vector_size)\n",
        "  for w in sentence:\n",
        "    if w in wv:\n",
        "      v += wv[w]\n",
        "  return v / len(sentence)"
      ],
      "metadata": {
        "id": "OlU6Pqhv7V92"
      },
      "execution_count": 15,
      "outputs": []
    },
    {
      "cell_type": "code",
      "source": [
        "embedding_matrix = []\n",
        "for doc in data:\n",
        "  embedding = avg_sentence(doc, model.wv)\n",
        "  embedding_matrix.append(embedding)"
      ],
      "metadata": {
        "colab": {
          "base_uri": "https://localhost:8080/"
        },
        "id": "yzwiQ4_O_JXa",
        "outputId": "80a691b9-d4aa-4c32-c5f6-fb5498f9da0c"
      },
      "execution_count": 16,
      "outputs": [
        {
          "output_type": "stream",
          "name": "stderr",
          "text": [
            "/usr/local/lib/python3.7/dist-packages/ipykernel_launcher.py:3: DeprecationWarning: Call to deprecated `wv` (Attribute will be removed in 4.0.0, use self instead).\n",
            "  This is separate from the ipykernel package so we can avoid doing imports until\n"
          ]
        }
      ]
    },
    {
      "cell_type": "code",
      "source": [
        "embedding_matrix = np.array(embedding_matrix)\n",
        "embedding_matrix.shape"
      ],
      "metadata": {
        "colab": {
          "base_uri": "https://localhost:8080/"
        },
        "id": "Gzmh-TMp_8a0",
        "outputId": "f1929883-359a-4c80-a7c2-f1e898519fd4"
      },
      "execution_count": 17,
      "outputs": [
        {
          "output_type": "execute_result",
          "data": {
            "text/plain": [
              "(20, 300)"
            ]
          },
          "metadata": {},
          "execution_count": 17
        }
      ]
    },
    {
      "cell_type": "code",
      "source": [
        "embedding_matrix"
      ],
      "metadata": {
        "colab": {
          "base_uri": "https://localhost:8080/"
        },
        "id": "FcuSGt8DTVBn",
        "outputId": "a09d12a6-8c35-45c1-9948-279f9ea7a930"
      },
      "execution_count": 18,
      "outputs": [
        {
          "output_type": "execute_result",
          "data": {
            "text/plain": [
              "array([[ 0.00849747,  0.03131719,  0.07107907, ..., -0.02274082,\n",
              "         0.00785408,  0.00172902],\n",
              "       [-0.0227956 , -0.00056978,  0.09591675, ..., -0.01887176,\n",
              "        -0.02062445,  0.01835723],\n",
              "       [-0.01435654,  0.0424444 ,  0.06613703, ..., -0.01653203,\n",
              "         0.00780914,  0.0013567 ],\n",
              "       ...,\n",
              "       [ 0.02164145,  0.02290526,  0.0202538 , ..., -0.03659842,\n",
              "         0.02245023, -0.019981  ],\n",
              "       [ 0.03173395,  0.01690552,  0.03109745, ..., -0.0403591 ,\n",
              "         0.02480696, -0.02229476],\n",
              "       [ 0.04418222,  0.03954977,  0.02940984, ..., -0.0214473 ,\n",
              "         0.03385666, -0.0146371 ]])"
            ]
          },
          "metadata": {},
          "execution_count": 18
        }
      ]
    },
    {
      "cell_type": "markdown",
      "source": [
        "# **Save Model**"
      ],
      "metadata": {
        "id": "-Plo9tCNVt4x"
      }
    },
    {
      "cell_type": "code",
      "source": [
        "model.save(\"word2vec.model\")"
      ],
      "metadata": {
        "id": "_SRFLpA0_8rE"
      },
      "execution_count": 19,
      "outputs": []
    },
    {
      "cell_type": "markdown",
      "source": [
        "# **Testing Football Domain**"
      ],
      "metadata": {
        "id": "0xnYWz2sZffP"
      }
    },
    {
      "cell_type": "markdown",
      "source": [
        "##### **Input Embedding Vector**"
      ],
      "metadata": {
        "id": "KQYMst3LZffQ"
      }
    },
    {
      "cell_type": "code",
      "source": [
        "input = 'a team sport played with a spherical ball between two teams of 11 players'\n",
        "input_vec = avg_sentence(input.split(), model.wv)\n",
        "\n",
        "# Take input from user\n",
        "# input_vec = avg_sentence(input().split(), model.wv)"
      ],
      "metadata": {
        "colab": {
          "base_uri": "https://localhost:8080/"
        },
        "outputId": "218b9a1c-bea2-4391-9f10-9f0532019f30",
        "id": "wrIYg9LPZffQ"
      },
      "execution_count": 20,
      "outputs": [
        {
          "output_type": "stream",
          "name": "stderr",
          "text": [
            "/usr/local/lib/python3.7/dist-packages/ipykernel_launcher.py:2: DeprecationWarning: Call to deprecated `wv` (Attribute will be removed in 4.0.0, use self instead).\n",
            "  \n"
          ]
        }
      ]
    },
    {
      "cell_type": "code",
      "source": [
        "print('input embedding vector shape:', input_vec.shape)"
      ],
      "metadata": {
        "colab": {
          "base_uri": "https://localhost:8080/"
        },
        "outputId": "6f359ffe-0d16-41de-dfd7-2ba8d7e7f7f1",
        "id": "v27OLed1ZffR"
      },
      "execution_count": 21,
      "outputs": [
        {
          "output_type": "stream",
          "name": "stdout",
          "text": [
            "input embedding vector shape: (300,)\n"
          ]
        }
      ]
    },
    {
      "cell_type": "code",
      "source": [
        "# input embedding vector\n",
        "input_vec"
      ],
      "metadata": {
        "colab": {
          "base_uri": "https://localhost:8080/"
        },
        "outputId": "8a6e58dc-af10-4398-a60e-57b5e7ba44c2",
        "id": "CeuJvhiMZffR"
      },
      "execution_count": 22,
      "outputs": [
        {
          "output_type": "execute_result",
          "data": {
            "text/plain": [
              "array([-0.05023193,  0.03846087,  0.07135664,  0.00639561,  0.08267648,\n",
              "       -0.05812291,  0.02211435, -0.12029157,  0.01212856,  0.05596488,\n",
              "       -0.02593994, -0.07042585, -0.00855364,  0.00213623, -0.04576111,\n",
              "        0.08850098,  0.05884824,  0.11397988,  0.01102121, -0.03002003,\n",
              "       -0.06168039,  0.10042899,  0.00104196, -0.05881391,  0.033444  ,\n",
              "       -0.04958235, -0.11429923,  0.08403669,  0.06378174, -0.01189314,\n",
              "       -0.03216335,  0.0078125 ,  0.09334891, -0.02377755,  0.02654157,\n",
              "        0.05056763,  0.04679871, -0.00772749,  0.03955078,  0.13374111,\n",
              "        0.12801688, -0.05007499,  0.02551923, -0.00807408,  0.00486537,\n",
              "       -0.06917844,  0.08680071, -0.08721924,  0.04819162,  0.07196481,\n",
              "       -0.02589634,  0.076137  , -0.06620952, -0.10070801,  0.00634984,\n",
              "       -0.04552938,  0.07743617,  0.0090332 , -0.00262015, -0.05038016,\n",
              "       -0.0916748 ,  0.03256662, -0.05369786, -0.10349819, -0.02272252,\n",
              "        0.0493818 , -0.01552037,  0.01740374,  0.06158447,  0.11710031,\n",
              "        0.01415798, -0.05010114,  0.0133885 , -0.04835728, -0.0824149 ,\n",
              "       -0.06943675, -0.00333187,  0.00965663, -0.00020763, -0.02898298,\n",
              "        0.00141907, -0.02742222,  0.01116289,  0.03257969,  0.05406625,\n",
              "       -0.12903704, -0.08118548,  0.00492314,  0.04415458,  0.09227862,\n",
              "       -0.00260271, -0.01417542, -0.08626011, -0.00732858,  0.01290458,\n",
              "       -0.0435791 ,  0.02324132, -0.03430176,  0.01965332, -0.02229527,\n",
              "        0.00292206, -0.00097656,  0.03027344,  0.00656564,  0.05258615,\n",
              "       -0.02239118,  0.02260045, -0.00706264,  0.02914865, -0.0066749 ,\n",
              "       -0.00704084,  0.04510062, -0.03849139, -0.00405966,  0.12566267,\n",
              "        0.07793318,  0.04295131, -0.01257324,  0.02451869, -0.09753418,\n",
              "       -0.12871443, -0.07735334, -0.03401838,  0.05712128, -0.05857195,\n",
              "       -0.08625575, -0.07038879, -0.01257978, -0.00457764,  0.05047171,\n",
              "        0.02153451, -0.10316685, -0.07952445, -0.02397156, -0.00430298,\n",
              "       -0.0403268 , -0.01271711,  0.07038225, -0.08656761,  0.03252956,\n",
              "       -0.01522391,  0.01351384,  0.12615531,  0.02873094, -0.0091204 ,\n",
              "        0.16002546,  0.04419381,  0.00319999, -0.07374464, -0.01452201,\n",
              "        0.07032994,  0.06682628, -0.16235788,  0.06733268, -0.03259087,\n",
              "        0.05031913, -0.02268491, -0.14836775,  0.00246756,  0.03778948,\n",
              "       -0.00154768,  0.02628435,  0.11172921,  0.00394985,  0.00437709,\n",
              "       -0.06157139,  0.05726406, -0.02062116, -0.01706805,  0.01997593,\n",
              "       -0.07887486, -0.06058611,  0.03608922, -0.06592287,  0.01996722,\n",
              "       -0.04983521, -0.01077488, -0.05038888, -0.06292289, -0.01701137,\n",
              "        0.05052294,  0.0171378 ,  0.02365112,  0.05562919, -0.01713998,\n",
              "        0.05213274,  0.05861119, -0.01599993,  0.05428641, -0.00228446,\n",
              "        0.04730497, -0.02382987,  0.01310512, -0.03748431, -0.05563463,\n",
              "        0.03586687,  0.01959446, -0.0284838 , -0.04530552, -0.04445975,\n",
              "        0.0809566 , -0.04267665, -0.05558559,  0.00636509, -0.0090332 ,\n",
              "       -0.12908064,  0.00875419, -0.09553746, -0.00261579, -0.00593349,\n",
              "        0.02341134,  0.02079555, -0.05843789,  0.09196254, -0.07297189,\n",
              "       -0.02608708, -0.00753348,  0.02099609, -0.1171875 ,  0.01551165,\n",
              "       -0.00313241, -0.0680106 ,  0.04306466,  0.00225912, -0.01376588,\n",
              "       -0.00182234,  0.05466134,  0.01228986,  0.08671352, -0.0159389 ,\n",
              "       -0.01315744,  0.03019496,  0.02218192,  0.02239118,  0.02917262,\n",
              "       -0.02640206, -0.03922381, -0.07165527,  0.0706046 , -0.04278128,\n",
              "        0.00664193,  0.06502642,  0.05343192, -0.13705008,  0.03226144,\n",
              "        0.07683454, -0.00142125,  0.00685556, -0.01449149, -0.02003261,\n",
              "        0.03309195, -0.00338309,  0.06143624,  0.0377655 ,  0.00721959,\n",
              "       -0.02958679, -0.00140354, -0.01283482, -0.06188529,  0.04245867,\n",
              "        0.04563686,  0.05699376,  0.01836286,  0.01334926,  0.0333083 ,\n",
              "        0.12296622,  0.00501796, -0.02695901, -0.03938757,  0.0431257 ,\n",
              "        0.00400489,  0.0660226 , -0.0929827 ,  0.00967843,  0.08893694,\n",
              "       -0.045178  , -0.03692245, -0.05413818, -0.047372  , -0.0657959 ,\n",
              "       -0.02885219, -0.01392473,  0.08588518,  0.00238255,  0.04083688,\n",
              "       -0.07311678, -0.0662493 ,  0.02289254,  0.01605225,  0.05651855,\n",
              "       -0.05224609,  0.05780683, -0.07776342, -0.07331194,  0.00724357,\n",
              "        0.05870274,  0.03569249, -0.0372794 , -0.04398019, -0.02746582])"
            ]
          },
          "metadata": {},
          "execution_count": 22
        }
      ]
    },
    {
      "cell_type": "markdown",
      "source": [
        "##### **Similarity Measure**"
      ],
      "metadata": {
        "id": "Ag28tCwKZffR"
      }
    },
    {
      "cell_type": "code",
      "source": [
        "sims = []\n",
        "for emb in embedding_matrix:\n",
        "  sim = cosine_sim(input_vec, emb)\n",
        "  sims.append(sim)"
      ],
      "metadata": {
        "id": "M4hsBEvRZffS"
      },
      "execution_count": 23,
      "outputs": []
    },
    {
      "cell_type": "code",
      "source": [
        "from operator import itemgetter\n",
        "indices, most_similar = zip(*sorted(enumerate(sims), key=itemgetter(1), reverse = True))"
      ],
      "metadata": {
        "id": "QjPg37icZffS"
      },
      "execution_count": 24,
      "outputs": []
    },
    {
      "cell_type": "code",
      "source": [
        "most_similar"
      ],
      "metadata": {
        "colab": {
          "base_uri": "https://localhost:8080/"
        },
        "outputId": "70e56b0f-9fef-4beb-c183-9ea942f4f7a1",
        "id": "Zzf2zo_qZffS"
      },
      "execution_count": 25,
      "outputs": [
        {
          "output_type": "execute_result",
          "data": {
            "text/plain": [
              "(0.7622986911105237,\n",
              " 0.7135719060202561,\n",
              " 0.701553122109776,\n",
              " 0.6752741304679356,\n",
              " 0.4928304959349676,\n",
              " 0.4852626517722278,\n",
              " 0.4824777974276544,\n",
              " 0.47462963127517066,\n",
              " 0.4702624609080954,\n",
              " 0.4649263964498985,\n",
              " 0.45909340337320176,\n",
              " 0.42627915457931503,\n",
              " 0.41777286409551123,\n",
              " 0.413535576217066,\n",
              " 0.4074479170149959,\n",
              " 0.40165940544295586,\n",
              " 0.3901727098142545,\n",
              " 0.3885856492741299,\n",
              " 0.37419344538841154,\n",
              " 0.3459998238835243)"
            ]
          },
          "metadata": {},
          "execution_count": 25
        }
      ]
    },
    {
      "cell_type": "code",
      "source": [
        "# indices of most most_similar docs\n",
        "indices"
      ],
      "metadata": {
        "colab": {
          "base_uri": "https://localhost:8080/"
        },
        "outputId": "e616f20b-bee3-4210-cc7e-dbdeefbe3f42",
        "id": "Tv9gz3TqZffS"
      },
      "execution_count": 26,
      "outputs": [
        {
          "output_type": "execute_result",
          "data": {
            "text/plain": [
              "(3, 1, 2, 0, 17, 16, 19, 9, 12, 18, 14, 15, 8, 10, 5, 7, 4, 6, 11, 13)"
            ]
          },
          "metadata": {},
          "execution_count": 26
        }
      ]
    },
    {
      "cell_type": "markdown",
      "source": [
        "##### **Results**"
      ],
      "metadata": {
        "id": "aXTSLLmsZffT"
      }
    },
    {
      "cell_type": "code",
      "source": [
        "# visualize first 5 most similar results to the input\n",
        "for i in indices[:5]:\n",
        "  print(raw_data[i])\n",
        "  print('\\n****************************************\\n')"
      ],
      "metadata": {
        "colab": {
          "base_uri": "https://localhost:8080/"
        },
        "outputId": "d887edd7-5e0e-4654-b8fc-0f31b3662780",
        "id": "S9wEnAi5ZffU"
      },
      "execution_count": 27,
      "outputs": [
        {
          "output_type": "stream",
          "name": "stdout",
          "text": [
            "Association football, more commonly known as simply football or soccer, is a team sport played with a spherical ball between two teams of 11 players. It is played by approximately 250 million players in over 200 countries and dependencies, making it the world's most popular sport. The game is played on a rectangular field called a pitch with a goal at each end. The objective of the game is to score more goals than the opposition by moving the ball beyond the goal line into the opposing goal, usually within a time frame of 90 or more minutes.\n",
            "Football is played in accordance with a set of rules known as the Laws of the Game. The ball is 68–70 cm (27–28 in) in circumference and known as the football. The two teams compete to get the ball into the other team's goal (between the posts and under the bar), thereby scoring a goal. Players are not allowed to touch the ball with hands or arms while it is in play, except for the goalkeepers within the penalty area. Players may use any other part of their body to strike or pass the ball and mainly use their feet. The team that has scored more goals at the end of the game is the winner; if both teams have scored an equal number of goals, either a draw is declared or the game goes into extra time or a penalty shootout, depending on the format of the competition. Each team is led by a captain who has only one official responsibility as mandated by the Laws of the Game: to represent their team in the coin toss before kick-off or penalty kicks.Football is governed internationally by the International Federation of Association Football (FIFA; French: Fédération Internationale de Football Association), which organises World Cups for men and women every four years. The men's FIFA World Cup has taken place every four years since 1930, with the exception of 1942 and 1946 tournaments, which were cancelled due to World War II. Approximately 190–200 national teams compete in qualifying tournaments within the scope of continental confederations for a place in the finals. The finals tournament is held every four years and involves 32 national teams competing over four weeks. It is the most prestigious men's football tournament in the world, and the most widely viewed and followed sporting event in the world, exceeding the Olympic Games. Similarly, the FIFA Women's World Cup has been played every four years since 1991, though football has been played by women since it has existed. A record-breaking 1.12 billion viewers watched the 2019 FIFA Women's World Cup in France.The most prestigious competitions in European club football are the UEFA Champions League and UEFA Women's Champions League, which attract an extensive television audience throughout the world. The final of the men's tournament has been, in recent years, the most-watched annual sporting event in the world. The top five European men's leagues are the Premier League (England), La Liga (Spain), Bundesliga (Germany), Serie A (Italy), and Ligue 1 (France). Attracting most of the world's best players, each of the leagues has a total wage cost in excess of £600 million/€763 million/US$1.185 billion.\n",
            "\n",
            "****************************************\n",
            "\n",
            "A football player or footballer is a sportsperson who plays one of the different types of football. The main types of football are association football, American football, Canadian football, Australian rules football, Gaelic football, rugby league and rugby union.\n",
            "It has been estimated that there are 250 million association football players in the world, and many play the other forms of football.\n",
            "\n",
            "****************************************\n",
            "\n",
            "College football is gridiron football consisting of American football played by teams of student athletes fielded by American universities, colleges, and military academies, or Canadian football played by teams of student athletes fielded by Canadian universities. It was through college football play that American football rules first gained popularity in the United States.\n",
            "Unlike most other sports in North America, no official minor league farm organizations exist in American or Canadian football. Therefore, college football is generally considered to be the second tier of American football in the United States and Canadian football in Canada; one step ahead of high school competition, and one step below professional competition. However, in some areas of the country, the South and the Midwest, college football is far more popular than professional football, and for much of the early 20th century, college football was seen as more prestigious than professional football.\n",
            "A player's performance in college football directly impacts his chances of playing professional football. The best collegiate players will typically declare for the professional draft after three to four years of collegiate competition, with the NFL holding its annual NFL draft every spring in which 256 players are selected annually. Those not selected can still attempt to land an NFL roster spot as an undrafted free agent.\n",
            "\n",
            "****************************************\n",
            "\n",
            "Football is a family of team sports that involve, to varying degrees, kicking a ball to score a goal.  Unqualified, the word football normally means the form of football that is the most popular where the word is used. Sports commonly called football include association football (known as soccer in North America and Oceania); gridiron football (specifically American football or Canadian football); Australian rules football; rugby union and rugby league; and Gaelic football. These various forms of football share to varying extent common origins and are known as football codes.\n",
            "There are a number of references to traditional, ancient, or prehistoric ball games played in many different parts of the world. Contemporary codes of football can be traced back to the codification of these games at English public schools during the 19th century. The expansion and cultural influence of the British Empire allowed these rules of football to spread to areas of British influence outside the directly controlled Empire.  By the end of the 19th century, distinct regional codes were already developing: Gaelic football, for example, deliberately incorporated the rules of local traditional football games in order to maintain their heritage.  In 1888, The Football League was founded in England, becoming the first of many professional football associations. During the 20th century, several of the various kinds of football grew to become some of the most popular team sports in the world.\n",
            "\n",
            "****************************************\n",
            "\n",
            "A.I. Artificial Intelligence (also known as A.I.) is a 2001 American science fiction drama film directed by Steven Spielberg. The screenplay by Spielberg and screen story by Ian Watson were based on the 1969 short story \"Supertoys Last All Summer Long\" by Brian Aldiss. The film was produced by Kathleen Kennedy, Spielberg and Bonnie Curtis. It stars Haley Joel Osment, Jude Law, Frances O'Connor, Brendan Gleeson and William Hurt. Set in a futuristic post-climate change society, A.I. tells the story of David (Osment), a childlike android uniquely programmed with the ability to love.\n",
            "Development of A.I. originally began with producer-director Stanley Kubrick, after he acquired the rights to Aldiss' story in the early 1970s. Kubrick hired a series of writers until the mid-1990s, including Brian Aldiss, Bob Shaw, Ian Watson, and Sara Maitland. The film languished in development hell for years, partly because Kubrick felt computer-generated imagery was not advanced enough to create the David character, whom he believed no child actor would convincingly portray. In 1995, Kubrick handed A.I. to Spielberg, but the film did not gain momentum until Kubrick's death in 1999. Spielberg remained close to Watson's film treatment for the screenplay.\n",
            "A.I. Artificial Intelligence was released in North America on June 29, 2001, by Warner Bros. Pictures and internationally by DreamWorks Pictures. The film received generally positive reviews from critics and grossed approximately $235 million against a budget of $90–100 million. It was nominated for Best Visual Effects and Best Original Score at the 74th Academy Awards. In a 2016 BBC poll of 177 critics around the world, A.I. Artificial Intelligence was voted the eighty-third-greatest film since 2000. A.I. is dedicated to Kubrick.\n",
            "\n",
            "****************************************\n",
            "\n"
          ]
        }
      ]
    },
    {
      "cell_type": "code",
      "source": [
        "# Get most relevant domain to the input\n",
        "print('Most relevant domain:', domains[indices[0]//docs_per_domain])"
      ],
      "metadata": {
        "colab": {
          "base_uri": "https://localhost:8080/"
        },
        "outputId": "93d0633a-30f8-4454-b8e7-b4dc0662df19",
        "id": "5-itDdAZZffT"
      },
      "execution_count": 28,
      "outputs": [
        {
          "output_type": "stream",
          "name": "stdout",
          "text": [
            "Most relevant domain: Football\n"
          ]
        }
      ]
    },
    {
      "cell_type": "markdown",
      "source": [
        "# **Testing Linux Domain**"
      ],
      "metadata": {
        "id": "Wk_dp2RnVm_l"
      }
    },
    {
      "cell_type": "markdown",
      "source": [
        "##### **Input Embedding Vector**"
      ],
      "metadata": {
        "id": "CJBRLfBOYfr8"
      }
    },
    {
      "cell_type": "code",
      "source": [
        "input = 'The Unix operating system was conceived and implemented in 1969'\n",
        "input_vec = avg_sentence(input.split(), model.wv)\n",
        "\n",
        "# Take input from user\n",
        "# input_vec = avg_sentence(input().split(), model.wv)"
      ],
      "metadata": {
        "colab": {
          "base_uri": "https://localhost:8080/"
        },
        "id": "YlcnWddeMdzC",
        "outputId": "520626bc-657b-4571-d36d-9f2b8192c01e"
      },
      "execution_count": 29,
      "outputs": [
        {
          "output_type": "stream",
          "name": "stderr",
          "text": [
            "/usr/local/lib/python3.7/dist-packages/ipykernel_launcher.py:2: DeprecationWarning: Call to deprecated `wv` (Attribute will be removed in 4.0.0, use self instead).\n",
            "  \n"
          ]
        }
      ]
    },
    {
      "cell_type": "code",
      "source": [
        "print('input embedding vector shape:', input_vec.shape)"
      ],
      "metadata": {
        "colab": {
          "base_uri": "https://localhost:8080/"
        },
        "id": "N5NXryWrNDTa",
        "outputId": "95a9edfa-9916-48de-d27c-db29596a3944"
      },
      "execution_count": 30,
      "outputs": [
        {
          "output_type": "stream",
          "name": "stdout",
          "text": [
            "input embedding vector shape: (300,)\n"
          ]
        }
      ]
    },
    {
      "cell_type": "code",
      "source": [
        "# input embedding vector\n",
        "input_vec"
      ],
      "metadata": {
        "colab": {
          "base_uri": "https://localhost:8080/"
        },
        "id": "e0-aIe_cNEJO",
        "outputId": "2ef8ce69-7ab7-48b4-f08d-e833df8a6132"
      },
      "execution_count": 31,
      "outputs": [
        {
          "output_type": "execute_result",
          "data": {
            "text/plain": [
              "array([-3.83255005e-02,  3.33679199e-02,  6.50390625e-02,  3.51562500e-02,\n",
              "       -8.53759766e-02, -4.84619141e-02,  5.66406250e-03, -9.63897705e-03,\n",
              "        8.49853516e-02,  9.18457031e-02, -6.50085449e-02, -2.60986328e-02,\n",
              "        2.74047852e-02, -2.96630859e-02, -8.60671997e-03, -1.82617187e-02,\n",
              "        8.12377930e-03,  4.17480469e-03, -6.95190430e-02,  7.62939453e-03,\n",
              "       -8.35815430e-02,  1.31933594e-01,  3.94805908e-02, -5.44853210e-02,\n",
              "        1.02716064e-01, -4.14062500e-02, -6.14028931e-02,  6.03515625e-02,\n",
              "       -2.49023438e-02, -4.35180664e-02, -5.61523437e-04, -7.71728516e-02,\n",
              "       -1.15808487e-02,  2.63671875e-03,  7.96875000e-02,  1.84936523e-02,\n",
              "       -3.37890625e-02, -7.67913818e-02,  9.58129883e-02,  3.03234100e-02,\n",
              "        2.68554688e-02,  5.24169922e-02,  6.98303223e-02,  3.26385498e-03,\n",
              "        4.69726563e-02, -6.59912109e-02, -6.66381836e-02,  9.76562500e-05,\n",
              "       -3.59252930e-02,  8.39233398e-02, -5.18554688e-02, -1.14404297e-01,\n",
              "       -2.12890625e-02, -1.04541016e-01, -2.34863281e-02,  5.72868347e-02,\n",
              "        2.62451172e-03, -8.87451172e-02,  3.42041016e-02,  1.88720703e-02,\n",
              "       -4.14550781e-02,  1.85546875e-03, -5.60058594e-02, -9.48730469e-02,\n",
              "       -1.12304688e-02, -1.95556641e-02, -1.36718750e-02,  9.65332031e-02,\n",
              "       -3.29650879e-02,  5.05371094e-03,  3.88916016e-02, -4.11743164e-02,\n",
              "        4.89746094e-02,  5.13992310e-03, -1.80847168e-02, -8.80004883e-02,\n",
              "        1.01916504e-01, -6.15722656e-02,  1.32171631e-02,  1.10345459e-01,\n",
              "        7.38098145e-02, -4.63653564e-02, -4.92736816e-02,  4.00108337e-02,\n",
              "       -2.62821198e-02, -1.44897461e-02, -2.41088867e-02,  1.20776367e-01,\n",
              "       -8.12988281e-02,  1.12152100e-03,  4.33471680e-02, -1.07524109e-01,\n",
              "       -6.07910156e-03,  1.68457031e-03,  4.79125977e-04,  9.02591705e-02,\n",
              "       -5.71960449e-02, -3.50463867e-02,  3.07556152e-02,  4.64813232e-02,\n",
              "        6.43363953e-02, -3.07113647e-02, -1.68945313e-02,  5.43975830e-02,\n",
              "        1.83532715e-02, -3.21990967e-02, -5.32104492e-02,  2.05444336e-02,\n",
              "       -1.16394043e-02, -5.21606445e-02, -8.12377930e-02,  2.13317871e-03,\n",
              "       -4.72778320e-02, -2.84652710e-02,  4.59472656e-02,  5.04623413e-02,\n",
              "        1.64260864e-03, -4.59472656e-02,  1.85852051e-01,  4.95239258e-02,\n",
              "       -7.65167236e-02, -3.77441406e-02, -3.46923828e-02, -9.59777832e-03,\n",
              "        3.39538574e-02,  2.03247070e-02, -1.95800781e-02,  1.48437500e-02,\n",
              "        5.59570312e-02, -3.77197266e-02,  1.95343018e-02, -3.56719971e-02,\n",
              "       -9.51904297e-02, -2.85400391e-02,  3.74421597e-02, -1.18774414e-02,\n",
              "        3.32427979e-02, -4.65209961e-02, -1.12597656e-01,  6.16806030e-02,\n",
              "       -1.64978027e-02, -4.67712402e-02, -2.38525391e-02,  3.47167969e-02,\n",
              "       -5.71777344e-02,  2.35351563e-02, -1.19873047e-02, -2.80883789e-02,\n",
              "       -8.58764648e-03,  3.64135742e-02,  8.49517822e-02, -2.38372803e-02,\n",
              "       -2.92205811e-02,  1.02624512e-01,  6.42059326e-02, -1.61865234e-02,\n",
              "       -1.05273437e-01, -3.52797508e-03, -5.76171875e-03, -2.30224609e-02,\n",
              "        4.90600586e-02,  2.46093750e-02, -2.19879150e-02,  2.81860352e-02,\n",
              "       -3.43872070e-02, -1.37207031e-02, -1.25244141e-02,  4.55627441e-03,\n",
              "        2.71179199e-02, -3.77670288e-02, -9.19189453e-02, -1.20825195e-01,\n",
              "       -2.03857422e-02, -1.47119141e-01,  5.85937500e-03,  4.68017578e-02,\n",
              "        1.54028320e-01, -3.46679688e-02, -4.08203125e-02, -3.76113892e-02,\n",
              "       -4.12963867e-02, -4.26742554e-02, -3.44596863e-02, -3.56445312e-03,\n",
              "        2.17864990e-02,  6.58691406e-02, -2.84049988e-02,  5.50994873e-02,\n",
              "        2.44140625e-04,  1.24267578e-02, -6.19750977e-02,  5.71289062e-03,\n",
              "        1.76269531e-02,  6.98516846e-02, -1.19451904e-01,  4.38720703e-02,\n",
              "       -4.83398438e-02, -2.65625000e-02,  1.89941406e-02, -1.21203613e-01,\n",
              "       -4.04052734e-03, -3.77807617e-02,  9.52941895e-02,  2.52441406e-02,\n",
              "       -1.70166016e-02,  8.63037109e-03, -5.26123047e-03, -1.16119385e-03,\n",
              "        3.55499268e-02, -5.57861328e-02,  2.45429993e-02,  8.14941406e-02,\n",
              "        7.93212891e-02,  1.17864990e-01, -4.84497070e-02,  3.10623169e-02,\n",
              "        4.53002930e-02,  1.22070312e-03, -5.97167969e-02,  1.74194336e-02,\n",
              "       -1.35498047e-02, -1.40899658e-02,  1.17626953e-01,  2.85324097e-02,\n",
              "        1.51367188e-02, -2.88696289e-02, -2.31323242e-02,  5.68237305e-02,\n",
              "       -1.93481445e-02,  1.14913940e-02, -2.25830078e-02, -1.28759766e-01,\n",
              "        6.46484375e-02, -1.83105469e-03, -2.80517578e-02, -3.18054199e-02,\n",
              "        6.12548828e-02, -1.57196045e-02,  8.50952148e-02, -8.77075195e-03,\n",
              "       -7.19726563e-02, -6.71142578e-02,  1.96182251e-02, -5.27587891e-02,\n",
              "       -2.77465820e-02, -8.02490234e-02, -3.72558594e-02,  1.61582947e-02,\n",
              "        5.98968506e-02,  1.14013672e-02, -6.10473633e-02,  5.11749268e-02,\n",
              "       -3.77075195e-02,  1.67846680e-03,  7.27233887e-02, -6.41845703e-02,\n",
              "       -1.01623535e-02, -5.06347656e-02, -7.16308594e-02, -5.13732910e-02,\n",
              "        6.18255615e-02, -1.85546875e-03,  5.50781250e-02,  2.71667480e-02,\n",
              "       -5.54199219e-03,  3.80249023e-02, -8.64135742e-02, -1.18872070e-01,\n",
              "       -1.19367599e-01,  2.27661133e-03,  4.80133057e-02, -4.65576172e-02,\n",
              "       -1.53564453e-02,  6.57836914e-02,  3.38623047e-02, -6.18286133e-02,\n",
              "       -4.57885742e-02, -6.01562500e-02, -4.33715820e-02, -5.26123047e-03,\n",
              "       -4.13391113e-02,  1.01165771e-01,  2.12158203e-02,  4.04541016e-02,\n",
              "        9.31045532e-02, -9.51416016e-02, -2.40356445e-02, -2.90771484e-02,\n",
              "        2.21313477e-02,  2.91461945e-02, -2.11047363e-01,  2.61627197e-02,\n",
              "       -2.42660522e-02,  6.42578125e-02,  1.32476807e-02,  3.93310547e-02,\n",
              "        1.42089844e-02,  9.72900391e-03,  1.90490723e-02, -2.49389648e-02])"
            ]
          },
          "metadata": {},
          "execution_count": 31
        }
      ]
    },
    {
      "cell_type": "markdown",
      "source": [
        "##### **Similarity Measure**"
      ],
      "metadata": {
        "id": "9dSeg_26YAoV"
      }
    },
    {
      "cell_type": "code",
      "source": [
        "sims = []\n",
        "for emb in embedding_matrix:\n",
        "  sim = cosine_sim(input_vec, emb)\n",
        "  sims.append(sim)"
      ],
      "metadata": {
        "id": "iLrcnDCwHtB2"
      },
      "execution_count": 32,
      "outputs": []
    },
    {
      "cell_type": "code",
      "source": [
        "from operator import itemgetter\n",
        "indices, most_similar = zip(*sorted(enumerate(sims), key=itemgetter(1), reverse = True))"
      ],
      "metadata": {
        "id": "g7EtS0pNN_OK"
      },
      "execution_count": 33,
      "outputs": []
    },
    {
      "cell_type": "code",
      "source": [
        "most_similar"
      ],
      "metadata": {
        "colab": {
          "base_uri": "https://localhost:8080/"
        },
        "id": "_dYevOdHIQLt",
        "outputId": "80802d05-ae6e-48d6-ad94-45bdf2b0015c"
      },
      "execution_count": 34,
      "outputs": [
        {
          "output_type": "execute_result",
          "data": {
            "text/plain": [
              "(0.7113737512714442,\n",
              " 0.6756592851826665,\n",
              " 0.6286151807296876,\n",
              " 0.6116173977406468,\n",
              " 0.5882216862141098,\n",
              " 0.5619681925553414,\n",
              " 0.5413218160537241,\n",
              " 0.5040648384727285,\n",
              " 0.5022811078130285,\n",
              " 0.49458563560452995,\n",
              " 0.45756939632329885,\n",
              " 0.45170985435941113,\n",
              " 0.4478685430123984,\n",
              " 0.41862953569508643,\n",
              " 0.4136001005666491,\n",
              " 0.40948977725739666,\n",
              " 0.4057676187151734,\n",
              " 0.36958547191199653,\n",
              " 0.35830498126165267,\n",
              " 0.32553099381495615)"
            ]
          },
          "metadata": {},
          "execution_count": 34
        }
      ]
    },
    {
      "cell_type": "code",
      "source": [
        "# indices of most most_similar docs\n",
        "indices"
      ],
      "metadata": {
        "colab": {
          "base_uri": "https://localhost:8080/"
        },
        "id": "gD8mMd2EQRAm",
        "outputId": "7b31f089-c261-4bbe-e367-14fd509d5022"
      },
      "execution_count": 35,
      "outputs": [
        {
          "output_type": "execute_result",
          "data": {
            "text/plain": [
              "(5, 4, 6, 7, 19, 16, 17, 14, 18, 9, 0, 3, 11, 2, 12, 15, 8, 13, 10, 1)"
            ]
          },
          "metadata": {},
          "execution_count": 35
        }
      ]
    },
    {
      "cell_type": "markdown",
      "source": [
        "##### **Results**"
      ],
      "metadata": {
        "id": "yy0TdBdfYx2z"
      }
    },
    {
      "cell_type": "code",
      "source": [
        "# visualize first 5 most similar results to the input\n",
        "for i in indices[:5]:\n",
        "  print(raw_data[i])\n",
        "  print('\\n****************************************\\n')"
      ],
      "metadata": {
        "colab": {
          "base_uri": "https://localhost:8080/"
        },
        "id": "xI0MWkd6RriU",
        "outputId": "5a227ae5-4353-4cba-a6ca-9a47a72b79fe"
      },
      "execution_count": 36,
      "outputs": [
        {
          "output_type": "stream",
          "name": "stdout",
          "text": [
            "The Linux kernel is a mostly free and open-source, monolithic, modular, multitasking, Unix-like operating system kernel. It was originally authored in 1991 by Linus Torvalds for his i386-based PC, and it was soon adopted as the kernel for the GNU operating system, which was written to be a free (libre) replacement for UNIX.\n",
            "Linux as a whole is released under the GNU General Public License version 2 only, but it contains files under other compatible licenses. However, Linux began including proprietary binary blobs in its source tree and main distribution in 1996. This led to other projects starting work to remove the proprietary blobs in order to produce a 100% libre kernel, which eventually led to the Linux-libre project being founded.Since the late 1990s, it has been included as part of a large number of operating system distributions, many of which are commonly also called Linux. However, there is a controversy surrounding the naming of such systems; some people, including Richard Stallman, argue calling such systems \"Linux\" is erroneous because the operating system is actually mostly GNU, with the Linux kernel being one component added later on in 1992, 9 years after the initiation of the GNU project in 1983, hence the name \"GNU+Linux\" or \"GNU/Linux\" should be used instead.\n",
            "Linux is deployed on a wide variety of computing systems, such as embedded devices, mobile devices (including its use in the Android operating system), personal computers, servers, mainframes, and supercomputers. It can be tailored for specific architectures and for several usage scenarios using a family of simple commands (that is, without the need of manually editing its source code before compilation); privileged users can also fine-tune kernel parameters at runtime. Most of the Linux kernel code is written using the GNU extensions of GCC to the standard C programming language and with the use of architecture specific instructions (ISA). This produces a highly optimized executable (vmlinux) with respect to utilization of memory space and task execution times.Day-to-day development discussions take place on the Linux kernel mailing list (LKML). Changes are tracked using the version control system git, which was originally authored by Torvalds as a free software replacement for BitKeeper.\n",
            "\n",
            "****************************************\n",
            "\n",
            "Linux ( (listen) LEE-nuuks or  LIN-uuks) is a family of open-source Unix-like operating systems based on the Linux kernel, an operating system kernel first released on September 17, 1991, by Linus Torvalds. Linux is typically packaged in a Linux distribution.\n",
            "Distributions include the Linux kernel and supporting system software and libraries, many of which are provided by the GNU Project. Many Linux distributions use the word \"Linux\" in their name, but the Free Software Foundation uses the name \"GNU/Linux\" to emphasize the importance of GNU software, causing some controversy.Popular Linux distributions include Debian, Fedora Linux, and Ubuntu, which in itself has many different distributions and modifications, Including Lubuntu and Xubuntu. Commercial distributions include Red Hat Enterprise Linux and SUSE Linux Enterprise. Desktop Linux distributions include a windowing system such as X11 or Wayland, and a desktop environment such as GNOME or KDE Plasma. Distributions intended for servers may omit graphics altogether, or include a solution stack such as LAMP. Because Linux is freely redistributable, anyone may create a distribution for any purpose.Linux was originally developed for personal computers based on the Intel x86 architecture, but has since been ported to more platforms than any other operating system. Because of the dominance of the Linux-based Android on smartphones, Linux also has the largest installed base of all general-purpose operating systems. Although Linux is used by only around 2.3 percent of desktop computers, the Chromebook, which runs the Linux kernel-based Chrome OS, dominates the US K–12 education market and represents nearly 20 percent of sub-$300 notebook sales in the US. Linux is the leading operating system on servers (over 96.4% of the top 1 million web servers' operating systems are Linux), leads other big iron systems such as mainframe computers, and is the only OS used on TOP500 supercomputers (since November 2017, having gradually eliminated all competitors).Linux also runs on embedded systems, i.e. devices whose operating system is typically built into the firmware and is highly tailored to the system. This includes routers, automation controls, smart home technology, televisions (Samsung and LG Smart TVs use Tizen and WebOS, respectively), automobiles (for example, Tesla, Audi, Mercedes-Benz, Hyundai, and Toyota all rely on Linux), digital video recorders, video game consoles, and smartwatches. The Falcon 9's and the Dragon 2's avionics use a customized version of Linux.\n",
            "Linux is one of the most prominent examples of free and open-source software collaboration. The source code may be used, modified and distributed commercially or non-commercially by anyone under the terms of its respective licenses, such as the GNU General Public License.\n",
            "\n",
            "****************************************\n",
            "\n",
            "A Linux distribution (often abbreviated as distro) is an operating system made from a software collection that includes the Linux kernel and, often, a package management system. Linux users usually obtain their operating system by downloading one of the Linux distributions, which are available for a wide variety of systems ranging from embedded devices (for example, OpenWrt) and personal computers (for example, Linux Mint) to powerful supercomputers (for example, Rocks Cluster Distribution).\n",
            "A typical Linux distribution comprises a Linux kernel, GNU tools and libraries, additional software, documentation, a window system (the most common being the X Window System, or, more recently, Wayland), a window manager, and a desktop environment.\n",
            "Most of the included software is free and open-source software made available both as compiled binaries and in source code form, allowing modifications to the original software. Usually, Linux distributions optionally include some proprietary software that may not be available in source code form, such as binary blobs required for some device drivers.A Linux distribution may also be described as a particular assortment of application and utility software (various GNU tools and libraries, for example), packaged together with the Linux kernel in such a way that its capabilities meet the needs of many users. The software is usually adapted to the distribution and then packaged into software packages by the distribution's maintainers. The software packages are available online in repositories, which are storage locations usually distributed around the world. Beside glue components, such as the distribution installers (for example, Debian-Installer and Anaconda) or the package management systems, there are only very few packages that are originally written from the ground up by the maintainers of a Linux distribution.\n",
            "Almost one thousand Linux distributions exist. Because of the huge availability of software, distributions have taken a wide variety of forms, including those suitable for use on desktops, servers, laptops, netbooks, mobile phones and tablets, as well as minimal environments typically for use in embedded systems. There are commercially backed distributions, such as Fedora Linux (Red Hat), openSUSE (SUSE) and Ubuntu (Canonical Ltd.), and entirely community-driven distributions, such as Debian, Slackware, Gentoo and Arch Linux. Most distributions come ready to use and pre-compiled for a specific instruction set, while some distributions (such as Gentoo) are distributed mostly in source code form and compiled locally during installation.\n",
            "\n",
            "****************************************\n",
            "\n",
            "Linux Mint is a community-driven Linux distribution based on Ubuntu (which is in turn based on Debian), bundled with a variety of free and open-source applications. It can provide full out-of-the-box multimedia support for those who choose to include proprietary software such as multimedia codecs.The Linux Mint project was created by Clément Lefèbvre and is actively maintained by the Linux Mint Team and community.\n",
            "\n",
            "****************************************\n",
            "\n",
            "The history of artificial intelligence (AI) began in antiquity, with myths, stories and rumors of artificial beings endowed with intelligence or consciousness by master craftsmen. The seeds of modern AI were planted by classical philosophers who attempted to describe the process of human thinking as the mechanical manipulation of symbols. This work culminated in the invention of the programmable digital computer in the 1940s, a machine based on the abstract essence of mathematical reasoning. This device and the ideas behind it inspired a handful of scientists to begin seriously discussing the possibility of building an electronic brain.\n",
            "The field of AI research was founded at a workshop held on the campus of Dartmouth College, USA during the summer of 1956. Those who attended would become the leaders of AI research for decades. Many of them predicted that a machine as intelligent as a human being would exist in no more than a generation, and they were given millions of dollars to make this vision come true.Eventually, it became obvious that commercial developers and researchers had grossly underestimated the difficulty of the project. In 1974, in response to the criticism from James Lighthill and ongoing pressure from congress, the U.S. and British Governments stopped funding undirected research into artificial intelligence, and the difficult years that followed would later be known as an \"AI winter\". Seven years later, a visionary initiative by the Japanese Government inspired governments and industry to provide AI with billions of dollars, but by the late 80s the investors became disillusioned and withdrew funding again.\n",
            "Investment and interest in AI boomed in the first decades of the 21st century when machine learning was successfully applied to many problems in academia and industry due to new methods, the application of powerful computer hardware, and the collection of immense data sets.\n",
            "\n",
            "****************************************\n",
            "\n"
          ]
        }
      ]
    },
    {
      "cell_type": "code",
      "source": [
        "# Get most relevant domain to the input\n",
        "print('Most relevant domain:', domains[indices[0]//docs_per_domain])"
      ],
      "metadata": {
        "colab": {
          "base_uri": "https://localhost:8080/"
        },
        "id": "kRiopPc3Ku73",
        "outputId": "a22e36b8-19af-4c6f-e061-3a1fe3f3a003"
      },
      "execution_count": 37,
      "outputs": [
        {
          "output_type": "stream",
          "name": "stdout",
          "text": [
            "Most relevant domain: Linux\n"
          ]
        }
      ]
    },
    {
      "cell_type": "markdown",
      "source": [
        "# **Testing Artificial Intelligence Domain**"
      ],
      "metadata": {
        "id": "V2AYw_gbZRgc"
      }
    },
    {
      "cell_type": "markdown",
      "source": [
        "##### **Input Embedding Vector**"
      ],
      "metadata": {
        "id": "oCuH9ZEoZRgc"
      }
    },
    {
      "cell_type": "code",
      "source": [
        "input = 'the simulation of human intelligence processes by machines, especially computer systems'\n",
        "input_vec = avg_sentence(input.split(), model.wv)\n",
        "\n",
        "input_vec = avg_sentence(input.split(), model.wv)\n",
        "\n",
        "# Take input from user\n",
        "# input_vec = avg_sentence(input().split(), model.wv)"
      ],
      "metadata": {
        "colab": {
          "base_uri": "https://localhost:8080/"
        },
        "outputId": "baa5be76-ca02-4678-9bc2-0e31aa62dd2f",
        "id": "RghqOsF-ZRgd"
      },
      "execution_count": 38,
      "outputs": [
        {
          "output_type": "stream",
          "name": "stderr",
          "text": [
            "/usr/local/lib/python3.7/dist-packages/ipykernel_launcher.py:2: DeprecationWarning: Call to deprecated `wv` (Attribute will be removed in 4.0.0, use self instead).\n",
            "  \n",
            "/usr/local/lib/python3.7/dist-packages/ipykernel_launcher.py:4: DeprecationWarning: Call to deprecated `wv` (Attribute will be removed in 4.0.0, use self instead).\n",
            "  after removing the cwd from sys.path.\n"
          ]
        }
      ]
    },
    {
      "cell_type": "code",
      "source": [
        "print('input embedding vector shape:', input_vec.shape)"
      ],
      "metadata": {
        "colab": {
          "base_uri": "https://localhost:8080/"
        },
        "outputId": "c3cb59cf-c4c5-4f24-a3fb-fd3319342aa6",
        "id": "G1lidw9bZRgd"
      },
      "execution_count": 39,
      "outputs": [
        {
          "output_type": "stream",
          "name": "stdout",
          "text": [
            "input embedding vector shape: (300,)\n"
          ]
        }
      ]
    },
    {
      "cell_type": "code",
      "source": [
        "# input embedding vector\n",
        "input_vec"
      ],
      "metadata": {
        "colab": {
          "base_uri": "https://localhost:8080/"
        },
        "outputId": "3d3517de-35fc-4f5e-9d69-f9594cc1e6d3",
        "id": "Odt7HekqZRgd"
      },
      "execution_count": 40,
      "outputs": [
        {
          "output_type": "execute_result",
          "data": {
            "text/plain": [
              "array([ 3.26704545e-02, -9.21075994e-03,  6.54407848e-02,  8.80376642e-02,\n",
              "       -1.18846547e-01,  3.86186080e-02, -3.48455256e-03, -3.36248224e-02,\n",
              "        2.71218040e-02,  4.00945490e-02, -2.02192827e-02, -1.31558505e-01,\n",
              "       -3.67868597e-02,  6.26997514e-03, -3.44357924e-02,  3.55557528e-02,\n",
              "       -6.28786954e-02,  6.64395419e-02, -4.05051491e-03, -6.72607422e-02,\n",
              "       -5.20907315e-02, -2.49800249e-02, -2.52109874e-02,  5.46174483e-02,\n",
              "        1.32657138e-01, -2.27633390e-03, -6.36208274e-02,  1.37301358e-02,\n",
              "       -1.30851052e-02, -7.58167614e-02, -2.22084739e-02, -7.62051669e-02,\n",
              "       -4.92942116e-02,  2.32627175e-02, -2.87309126e-02, -6.12293590e-02,\n",
              "       -4.34930975e-02, -2.74103338e-03,  9.67684659e-02,  1.71120384e-02,\n",
              "        2.10515803e-02,  2.64115767e-02,  3.40021307e-02,  9.69349254e-02,\n",
              "        4.12320224e-02, -2.18491988e-02, -6.97465376e-02,  2.45971680e-02,\n",
              "       -5.26344993e-02,  8.44053789e-02, -4.47609641e-02, -2.43308327e-02,\n",
              "       -6.58957741e-02, -3.42462713e-02, -6.86146129e-02,  5.63548695e-02,\n",
              "        2.06298828e-02, -9.02168968e-02,  5.36665483e-02,  6.41424006e-03,\n",
              "       -5.69735440e-02,  4.56764915e-02, -2.43918679e-02, -3.67542614e-02,\n",
              "       -9.06760476e-02,  7.75174228e-02, -2.91914506e-02,  1.44353693e-01,\n",
              "       -5.54698597e-02, -3.22931463e-02,  1.12082741e-03, -2.49245384e-02,\n",
              "        1.01740057e-01, -1.41934482e-02, -4.60371538e-02, -7.76367188e-02,\n",
              "        8.51384943e-02,  1.33445046e-02,  2.23764940e-02,  3.29367898e-02,\n",
              "        3.90659679e-02,  3.37663130e-02,  6.96244673e-02, -1.35387074e-03,\n",
              "        4.35125178e-02, -4.69155745e-02, -5.46001088e-02,  1.60644531e-01,\n",
              "       -3.16495028e-02,  4.84508168e-02,  8.25472745e-02, -4.31268865e-02,\n",
              "       -5.93983043e-02, -4.59983132e-03,  2.88751776e-02,  4.11709872e-03,\n",
              "       -1.89625133e-02, -5.90154474e-02,  1.17123691e-01,  1.87322443e-02,\n",
              "        7.84757788e-02, -7.79030540e-02, -4.04829545e-02,  3.32919034e-02,\n",
              "       -2.30379972e-02,  7.80511336e-02, -4.26968661e-02,  1.54613148e-02,\n",
              "        1.17542614e-01, -1.72895952e-02,  9.05539773e-03,  2.28715376e-02,\n",
              "       -5.15691584e-02,  7.71290172e-02,  4.11571156e-03,  6.07910156e-02,\n",
              "       -4.50855602e-02,  3.22709517e-02,  1.84836648e-01, -4.70525568e-03,\n",
              "       -1.81019176e-01, -2.54683061e-03, -1.03204901e-02,  4.33238636e-02,\n",
              "       -3.86186080e-03,  1.08330467e-02, -5.05814986e-02,  2.49689276e-03,\n",
              "        5.85937500e-02,  5.95071966e-02,  3.44432484e-03, -3.10946378e-02,\n",
              "       -1.20063088e-01,  1.33389560e-02,  3.59996449e-02, -6.83149858e-02,\n",
              "        6.68723366e-02, -3.26593572e-02, -8.41730291e-02, -2.69761519e-02,\n",
              "        5.44655540e-02, -6.03027344e-02,  2.14732777e-03,  8.72247869e-02,\n",
              "       -6.26720082e-02, -3.56445312e-02,  9.52370384e-02, -1.13348527e-02,\n",
              "        9.63523171e-03,  4.16148793e-02,  1.92638744e-02,  5.24507002e-02,\n",
              "       -4.16370739e-02,  1.54097124e-01, -3.99502841e-02, -9.57475142e-02,\n",
              "       -4.21475497e-02, -4.57208807e-02, -1.08828111e-02, -5.64547452e-02,\n",
              "       -7.84579190e-03, -1.99751420e-02, -7.60830966e-02,  6.30992543e-02,\n",
              "       -6.86562278e-02,  3.00903320e-02,  4.41339666e-02, -5.65019087e-02,\n",
              "        3.32364169e-02,  3.70094993e-03, -2.74769176e-02, -1.16910067e-02,\n",
              "       -9.19189453e-02, -7.05372203e-02,  4.04760187e-02, -1.19850852e-03,\n",
              "        2.53462358e-02, -7.37637607e-02, -1.14612926e-01, -5.80222390e-02,\n",
              "       -8.12100497e-02, -6.08132102e-02,  1.89708363e-02, -6.49268410e-02,\n",
              "       -2.05078125e-02,  2.73770419e-02, -2.99183239e-02,  4.29021662e-02,\n",
              "        1.84437145e-02,  6.29383434e-02, -3.82523970e-02,  1.08753551e-03,\n",
              "       -6.40314276e-03, -1.11389160e-02, -3.52783203e-02,  5.83163175e-03,\n",
              "        4.64505282e-02, -1.13050981e-01, -2.41172097e-02, -9.87659801e-02,\n",
              "        1.89208984e-02,  1.15855824e-02, -5.78169389e-02,  6.04081587e-02,\n",
              "        4.07062877e-03, -3.48011364e-02,  7.04234730e-02, -4.88836115e-02,\n",
              "       -6.72496449e-02, -1.17032138e-01, -8.24917880e-02, -3.28643105e-02,\n",
              "       -2.60349620e-02,  3.05557251e-02, -5.78002930e-02,  1.62728050e-02,\n",
              "        8.43838778e-02,  8.77574574e-02, -1.25521573e-01,  2.26107511e-03,\n",
              "        1.08448375e-02, -8.80126953e-02,  1.90762607e-02, -6.43477006e-02,\n",
              "       -5.37553267e-02, -5.46875000e-02, -4.67196378e-03,  2.18727805e-02,\n",
              "        7.89683949e-02, -2.04190341e-02,  6.93470348e-02, -4.57430753e-02,\n",
              "        2.92836970e-02, -7.54172585e-02, -1.15860679e-01, -7.40522905e-02,\n",
              "       -3.07395241e-02, -2.77432528e-02,  6.64468245e-02,  1.27924139e-02,\n",
              "        3.69345925e-02, -2.08351829e-03, -6.74410733e-02, -5.17245206e-02,\n",
              "       -2.69109553e-02, -3.67986506e-02, -1.31170099e-02,  7.50510476e-02,\n",
              "       -3.00847834e-02, -4.27135121e-02, -4.32239879e-02,  1.39520819e-02,\n",
              "       -1.52587891e-02,  1.90651634e-02,  2.07353072e-02, -9.80446555e-02,\n",
              "        3.08615945e-02,  1.07144442e-02, -9.46377841e-02, -4.61647727e-02,\n",
              "        4.44481590e-02, -4.98268821e-02, -2.87253640e-02,  5.79057173e-02,\n",
              "        1.10293302e-02,  5.61079545e-02, -5.87359342e-02, -8.03444602e-03,\n",
              "       -1.44575639e-01,  8.53826349e-02, -6.07244318e-02,  5.99476207e-02,\n",
              "       -6.38004541e-02,  8.01225142e-03, -2.16841264e-02, -4.72412109e-02,\n",
              "       -3.99280895e-02, -1.55986439e-02, -3.32919034e-05,  2.68110795e-02,\n",
              "       -4.45223722e-02,  5.34237948e-02,  3.73646129e-02,  5.65407493e-03,\n",
              "       -1.59246271e-02, -4.98712713e-02, -2.57013494e-02, -6.01473722e-03,\n",
              "        2.09517045e-02,  5.84272905e-02, -1.78533381e-01,  5.97922585e-02,\n",
              "       -5.89960272e-02,  9.29787376e-02, -1.82550604e-03,  1.36885210e-02,\n",
              "       -1.33223100e-02, -5.35611239e-02, -6.13958185e-03,  1.58303001e-02])"
            ]
          },
          "metadata": {},
          "execution_count": 40
        }
      ]
    },
    {
      "cell_type": "markdown",
      "source": [
        "##### **Similarity Measure**"
      ],
      "metadata": {
        "id": "oYnRhFn4ZRge"
      }
    },
    {
      "cell_type": "code",
      "source": [
        "sims = []\n",
        "for emb in embedding_matrix:\n",
        "  sim = cosine_sim(input_vec, emb)\n",
        "  sims.append(sim)"
      ],
      "metadata": {
        "id": "mjCV188wZRge"
      },
      "execution_count": 41,
      "outputs": []
    },
    {
      "cell_type": "code",
      "source": [
        "from operator import itemgetter\n",
        "indices, most_similar = zip(*sorted(enumerate(sims), key=itemgetter(1), reverse = True))"
      ],
      "metadata": {
        "id": "C8n3IEo_ZRge"
      },
      "execution_count": 42,
      "outputs": []
    },
    {
      "cell_type": "code",
      "source": [
        "most_similar"
      ],
      "metadata": {
        "colab": {
          "base_uri": "https://localhost:8080/"
        },
        "outputId": "0559179b-8290-4382-8591-179c635d7e64",
        "id": "0LJ2fH2AZRge"
      },
      "execution_count": 43,
      "outputs": [
        {
          "output_type": "execute_result",
          "data": {
            "text/plain": [
              "(0.7452344962159336,\n",
              " 0.66241436536152,\n",
              " 0.6502918699871371,\n",
              " 0.647774131896869,\n",
              " 0.645837796829403,\n",
              " 0.6227774831642384,\n",
              " 0.5859108592256483,\n",
              " 0.5725396499064507,\n",
              " 0.5717783929223123,\n",
              " 0.5688797582792084,\n",
              " 0.5480876828900194,\n",
              " 0.5139804628413409,\n",
              " 0.49445866143572254,\n",
              " 0.4882912095083163,\n",
              " 0.4783935623880307,\n",
              " 0.46585848830367765,\n",
              " 0.4501046754060713,\n",
              " 0.4395174217152231,\n",
              " 0.4320561292745675,\n",
              " 0.37219058514974207)"
            ]
          },
          "metadata": {},
          "execution_count": 43
        }
      ]
    },
    {
      "cell_type": "code",
      "source": [
        "# indices of most most_similar docs\n",
        "indices"
      ],
      "metadata": {
        "colab": {
          "base_uri": "https://localhost:8080/"
        },
        "outputId": "84911107-11be-4315-92c4-b95a5b7d4387",
        "id": "5tSEVrNlZRgf"
      },
      "execution_count": 44,
      "outputs": [
        {
          "output_type": "execute_result",
          "data": {
            "text/plain": [
              "(16, 19, 5, 4, 6, 18, 11, 8, 7, 10, 17, 14, 0, 15, 12, 9, 3, 2, 13, 1)"
            ]
          },
          "metadata": {},
          "execution_count": 44
        }
      ]
    },
    {
      "cell_type": "markdown",
      "source": [
        "##### **Results**"
      ],
      "metadata": {
        "id": "0xJEBI7CZRgf"
      }
    },
    {
      "cell_type": "code",
      "source": [
        "# visualize first 5 most similar results to the input\n",
        "for i in indices[:5]:\n",
        "  print(raw_data[i])\n",
        "  print('\\n****************************************\\n')"
      ],
      "metadata": {
        "colab": {
          "base_uri": "https://localhost:8080/"
        },
        "outputId": "fe54d618-20e7-46e1-8b7a-82202ab88be0",
        "id": "aWX3F5iZZRgi"
      },
      "execution_count": 45,
      "outputs": [
        {
          "output_type": "stream",
          "name": "stdout",
          "text": [
            "Artificial intelligence (AI) is intelligence demonstrated by machines, as opposed to the natural intelligence displayed by animals including humans. Leading AI textbooks define the field as the study of \"intelligent agents\": any system that perceives its environment and takes actions that maximize its chance of achieving its goals.Some popular accounts use the term \"artificial intelligence\" to describe machines that mimic \"cognitive\" functions that humans associate with the human mind, such as \"learning\" and \"problem-solving\", however, this definition is rejected by major AI researchers.AI applications include advanced web search engines (e.g., Google), recommendation systems (used by YouTube, Amazon and Netflix), understanding human speech (such as Siri and Alexa), self-driving cars (e.g., Tesla), automated decision-making and competing at the highest level in strategic game systems (such as chess and Go).\n",
            "As machines become increasingly capable, tasks considered to require \"intelligence\" are often removed from the definition of AI, a phenomenon known as the AI effect.  For instance, optical character recognition is frequently excluded from things considered to be AI, having become a routine technology.Artificial intelligence was founded as an academic discipline in 1956, and in the years since has experienced several waves of optimism, followed by disappointment and the loss of funding (known as an \"AI winter\"), followed by new approaches, success and renewed funding. AI research has tried and discarded many different approaches since its founding, including simulating the brain, modeling human problem solving, formal logic, large databases of knowledge and imitating animal behavior. In the first decades of the 21st century, highly mathematical-statistical machine learning has dominated the field, and this technique has proved highly successful, helping to solve many challenging problems throughout industry and academia.The various sub-fields of AI research are centered around particular goals and the use of particular tools. The traditional goals of AI research include reasoning, knowledge representation, planning, learning, natural language processing, perception, and the ability to move and manipulate objects. General intelligence (the ability to solve an arbitrary problem) is among the field's long-term goals. To solve these problems, AI researchers have adapted and integrated a wide range of problem-solving techniques—including search and mathematical optimization, formal logic, artificial neural networks, and methods based on statistics, probability and economics. AI also draws upon computer science, psychology, linguistics, philosophy, and many other fields.\n",
            "The field was founded on the assumption that human intelligence \"can be so precisely described that a machine can be made to simulate it\".\n",
            "This raises philosophical arguments about the mind and the ethics of creating artificial beings endowed with human-like intelligence. These issues have been explored by myth, fiction, and philosophy since antiquity.Science fiction and futurology have also suggested that, with its enormous potential and power, AI may become an existential risk to humanity.\n",
            "\n",
            "****************************************\n",
            "\n",
            "The history of artificial intelligence (AI) began in antiquity, with myths, stories and rumors of artificial beings endowed with intelligence or consciousness by master craftsmen. The seeds of modern AI were planted by classical philosophers who attempted to describe the process of human thinking as the mechanical manipulation of symbols. This work culminated in the invention of the programmable digital computer in the 1940s, a machine based on the abstract essence of mathematical reasoning. This device and the ideas behind it inspired a handful of scientists to begin seriously discussing the possibility of building an electronic brain.\n",
            "The field of AI research was founded at a workshop held on the campus of Dartmouth College, USA during the summer of 1956. Those who attended would become the leaders of AI research for decades. Many of them predicted that a machine as intelligent as a human being would exist in no more than a generation, and they were given millions of dollars to make this vision come true.Eventually, it became obvious that commercial developers and researchers had grossly underestimated the difficulty of the project. In 1974, in response to the criticism from James Lighthill and ongoing pressure from congress, the U.S. and British Governments stopped funding undirected research into artificial intelligence, and the difficult years that followed would later be known as an \"AI winter\". Seven years later, a visionary initiative by the Japanese Government inspired governments and industry to provide AI with billions of dollars, but by the late 80s the investors became disillusioned and withdrew funding again.\n",
            "Investment and interest in AI boomed in the first decades of the 21st century when machine learning was successfully applied to many problems in academia and industry due to new methods, the application of powerful computer hardware, and the collection of immense data sets.\n",
            "\n",
            "****************************************\n",
            "\n",
            "The Linux kernel is a mostly free and open-source, monolithic, modular, multitasking, Unix-like operating system kernel. It was originally authored in 1991 by Linus Torvalds for his i386-based PC, and it was soon adopted as the kernel for the GNU operating system, which was written to be a free (libre) replacement for UNIX.\n",
            "Linux as a whole is released under the GNU General Public License version 2 only, but it contains files under other compatible licenses. However, Linux began including proprietary binary blobs in its source tree and main distribution in 1996. This led to other projects starting work to remove the proprietary blobs in order to produce a 100% libre kernel, which eventually led to the Linux-libre project being founded.Since the late 1990s, it has been included as part of a large number of operating system distributions, many of which are commonly also called Linux. However, there is a controversy surrounding the naming of such systems; some people, including Richard Stallman, argue calling such systems \"Linux\" is erroneous because the operating system is actually mostly GNU, with the Linux kernel being one component added later on in 1992, 9 years after the initiation of the GNU project in 1983, hence the name \"GNU+Linux\" or \"GNU/Linux\" should be used instead.\n",
            "Linux is deployed on a wide variety of computing systems, such as embedded devices, mobile devices (including its use in the Android operating system), personal computers, servers, mainframes, and supercomputers. It can be tailored for specific architectures and for several usage scenarios using a family of simple commands (that is, without the need of manually editing its source code before compilation); privileged users can also fine-tune kernel parameters at runtime. Most of the Linux kernel code is written using the GNU extensions of GCC to the standard C programming language and with the use of architecture specific instructions (ISA). This produces a highly optimized executable (vmlinux) with respect to utilization of memory space and task execution times.Day-to-day development discussions take place on the Linux kernel mailing list (LKML). Changes are tracked using the version control system git, which was originally authored by Torvalds as a free software replacement for BitKeeper.\n",
            "\n",
            "****************************************\n",
            "\n",
            "Linux ( (listen) LEE-nuuks or  LIN-uuks) is a family of open-source Unix-like operating systems based on the Linux kernel, an operating system kernel first released on September 17, 1991, by Linus Torvalds. Linux is typically packaged in a Linux distribution.\n",
            "Distributions include the Linux kernel and supporting system software and libraries, many of which are provided by the GNU Project. Many Linux distributions use the word \"Linux\" in their name, but the Free Software Foundation uses the name \"GNU/Linux\" to emphasize the importance of GNU software, causing some controversy.Popular Linux distributions include Debian, Fedora Linux, and Ubuntu, which in itself has many different distributions and modifications, Including Lubuntu and Xubuntu. Commercial distributions include Red Hat Enterprise Linux and SUSE Linux Enterprise. Desktop Linux distributions include a windowing system such as X11 or Wayland, and a desktop environment such as GNOME or KDE Plasma. Distributions intended for servers may omit graphics altogether, or include a solution stack such as LAMP. Because Linux is freely redistributable, anyone may create a distribution for any purpose.Linux was originally developed for personal computers based on the Intel x86 architecture, but has since been ported to more platforms than any other operating system. Because of the dominance of the Linux-based Android on smartphones, Linux also has the largest installed base of all general-purpose operating systems. Although Linux is used by only around 2.3 percent of desktop computers, the Chromebook, which runs the Linux kernel-based Chrome OS, dominates the US K–12 education market and represents nearly 20 percent of sub-$300 notebook sales in the US. Linux is the leading operating system on servers (over 96.4% of the top 1 million web servers' operating systems are Linux), leads other big iron systems such as mainframe computers, and is the only OS used on TOP500 supercomputers (since November 2017, having gradually eliminated all competitors).Linux also runs on embedded systems, i.e. devices whose operating system is typically built into the firmware and is highly tailored to the system. This includes routers, automation controls, smart home technology, televisions (Samsung and LG Smart TVs use Tizen and WebOS, respectively), automobiles (for example, Tesla, Audi, Mercedes-Benz, Hyundai, and Toyota all rely on Linux), digital video recorders, video game consoles, and smartwatches. The Falcon 9's and the Dragon 2's avionics use a customized version of Linux.\n",
            "Linux is one of the most prominent examples of free and open-source software collaboration. The source code may be used, modified and distributed commercially or non-commercially by anyone under the terms of its respective licenses, such as the GNU General Public License.\n",
            "\n",
            "****************************************\n",
            "\n",
            "A Linux distribution (often abbreviated as distro) is an operating system made from a software collection that includes the Linux kernel and, often, a package management system. Linux users usually obtain their operating system by downloading one of the Linux distributions, which are available for a wide variety of systems ranging from embedded devices (for example, OpenWrt) and personal computers (for example, Linux Mint) to powerful supercomputers (for example, Rocks Cluster Distribution).\n",
            "A typical Linux distribution comprises a Linux kernel, GNU tools and libraries, additional software, documentation, a window system (the most common being the X Window System, or, more recently, Wayland), a window manager, and a desktop environment.\n",
            "Most of the included software is free and open-source software made available both as compiled binaries and in source code form, allowing modifications to the original software. Usually, Linux distributions optionally include some proprietary software that may not be available in source code form, such as binary blobs required for some device drivers.A Linux distribution may also be described as a particular assortment of application and utility software (various GNU tools and libraries, for example), packaged together with the Linux kernel in such a way that its capabilities meet the needs of many users. The software is usually adapted to the distribution and then packaged into software packages by the distribution's maintainers. The software packages are available online in repositories, which are storage locations usually distributed around the world. Beside glue components, such as the distribution installers (for example, Debian-Installer and Anaconda) or the package management systems, there are only very few packages that are originally written from the ground up by the maintainers of a Linux distribution.\n",
            "Almost one thousand Linux distributions exist. Because of the huge availability of software, distributions have taken a wide variety of forms, including those suitable for use on desktops, servers, laptops, netbooks, mobile phones and tablets, as well as minimal environments typically for use in embedded systems. There are commercially backed distributions, such as Fedora Linux (Red Hat), openSUSE (SUSE) and Ubuntu (Canonical Ltd.), and entirely community-driven distributions, such as Debian, Slackware, Gentoo and Arch Linux. Most distributions come ready to use and pre-compiled for a specific instruction set, while some distributions (such as Gentoo) are distributed mostly in source code form and compiled locally during installation.\n",
            "\n",
            "****************************************\n",
            "\n"
          ]
        }
      ]
    },
    {
      "cell_type": "code",
      "source": [
        "# Get most relevant domain to the input\n",
        "print('Most relevant domain:', domains[indices[0]//docs_per_domain])"
      ],
      "metadata": {
        "colab": {
          "base_uri": "https://localhost:8080/"
        },
        "outputId": "a51e6da2-2729-484c-8383-1c53cdaf3001",
        "id": "E6Pgx_MBZRgi"
      },
      "execution_count": 46,
      "outputs": [
        {
          "output_type": "stream",
          "name": "stdout",
          "text": [
            "Most relevant domain: Artificial Intelligence\n"
          ]
        }
      ]
    }
  ]
}